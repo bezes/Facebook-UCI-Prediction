{
 "cells": [
  {
   "cell_type": "markdown",
   "metadata": {},
   "source": [
    "# Modelling Lifetime Post Consumers\n",
    "\n",
    "## Data Preparation\n",
    "\n",
    "We first get the prepared dataset using functions in `preparation.py`. \n",
    "\n",
    "The data preprocessing procedure involves:\n",
    "- Conversion of the columns `['Type', 'Category', 'Post Month', 'Post Weekday']` to categorical variables,\n",
    "- Conversion of `hour` into `hour_x` and `hour_y` coordinates (optional),\n",
    "- Filling the missing values (There is only one missing value in `Paid` column, which we fill by the most common value of the column - 0).\n",
    "- Splitting the dataset into train and test sets, using a shuffle split, and a test size of 25%. We can test multiple train and test splits, using a larger `number_of_splits` param below, but we start with one split.\n",
    "- Transformation of the columns `Page total likes` and `Lifetime Post Consumers` into a normal distribution using a quantile transformation. We do this to avoid training on skewed data, and better capture the extreme values.\n",
    "\n",
    "## Building the model\n",
    "\n",
    "We compare different regression algorithms to find which one fits the data better.\n",
    "\n",
    "The algorithms tried are:\n",
    "\n",
    "- Decision Tree Regressor\n",
    "- Ridge (Linear Regression with L2 Regularisation)\n",
    "- K-Neighbors Regressor\n",
    "- Support Vector Regressor\n",
    "- Random Forest Regressor\n",
    "- XGBoost (eXtreme Gradient Boosting) Regressor\n",
    "\n",
    "We do a randomised search for each algorithm to find the best hyperparameter set for each one of them, minimising the Mean Squared Error, and we compare the performance among all of them, returning the best model / hyperparameters.\n",
    "\n",
    "The best fit is obtained by the XGBoost regressor. The next step is to optimise the model by applying Bayesian Optimization, using the parameters obtained in the random search, but also allowing for other randomly selected algorithms.\n",
    "\n",
    "We evaluate the final model by measuring the Root Mean Squared Error score for both train and test sets, and displaying a grid with the predictions against the actual values. We also show the most important features for the XGBoost model.\n",
    "\n",
    "Finally, we discuss future steps for improving the model and productionising the program."
   ]
  },
  {
   "cell_type": "markdown",
   "metadata": {},
   "source": [
    "## Imports"
   ]
  },
  {
   "cell_type": "code",
   "execution_count": 1,
   "metadata": {},
   "outputs": [],
   "source": [
    "from preparation import *\n",
    "from model import *\n",
    "\n",
    "import matplotlib.pyplot as plt\n",
    "import warnings\n",
    "\n",
    "from bayes_opt import BayesianOptimization\n",
    "from sklearn.model_selection import cross_val_score\n",
    "\n",
    "warnings.filterwarnings('ignore')"
   ]
  },
  {
   "cell_type": "markdown",
   "metadata": {},
   "source": [
    "## Load Data and Configure Parameters"
   ]
  },
  {
   "cell_type": "code",
   "execution_count": 2,
   "metadata": {},
   "outputs": [],
   "source": [
    "# First load the data\n",
    "df = load_data()\n",
    "\n",
    "number_of_splits = 1\n",
    "seed = 42\n",
    "\n",
    "# The following params are used for the random search cross-validation\n",
    "n_iter = 80\n",
    "k_fold = 3\n",
    "n_jobs = 3\n",
    "verbose = 1\n",
    "\n",
    "# This parameter is set to True, so \n",
    "# `Page total likes` and `Lifetime Post Consumers`\n",
    "# will be transformed using a PowerTransformer\n",
    "do_transform = True\n",
    "\n",
    "do_convert_hour = False\n",
    "# The alternative is, using `do_convert_hour=True`, to transform hour\n",
    "# into a coordinate system (hour_x, hour_y),\n",
    "# to deal with the fact that 23:00 is close to 00:00\n",
    "\n",
    "# However, as this doesn't improve the model\n",
    "# we leave this conversion out for better clarity."
   ]
  },
  {
   "cell_type": "markdown",
   "metadata": {},
   "source": [
    "## Model Selection"
   ]
  },
  {
   "cell_type": "code",
   "execution_count": 3,
   "metadata": {},
   "outputs": [
    {
     "name": "stdout",
     "output_type": "stream",
     "text": [
      "### Tuning DecisionTreeRegressor... ###\n",
      "Fitting 3 folds for each of 1 candidates, totalling 3 fits\n"
     ]
    },
    {
     "name": "stderr",
     "output_type": "stream",
     "text": [
      "[Parallel(n_jobs=3)]: Using backend LokyBackend with 3 concurrent workers.\n",
      "[Parallel(n_jobs=3)]: Done   3 out of   3 | elapsed:    3.5s finished\n",
      "[Parallel(n_jobs=3)]: Using backend LokyBackend with 3 concurrent workers.\n",
      "[Parallel(n_jobs=3)]: Done   3 out of   3 | elapsed:    0.0s finished\n",
      "[Parallel(n_jobs=3)]: Using backend LokyBackend with 3 concurrent workers.\n"
     ]
    },
    {
     "name": "stdout",
     "output_type": "stream",
     "text": [
      "### Tuning Ridge... ###\n",
      "Fitting 3 folds for each of 1 candidates, totalling 3 fits\n",
      "### Tuning KNeighborsRegressor... ###\n",
      "Fitting 3 folds for each of 14 candidates, totalling 42 fits\n"
     ]
    },
    {
     "name": "stderr",
     "output_type": "stream",
     "text": [
      "[Parallel(n_jobs=3)]: Done  42 out of  42 | elapsed:    0.3s finished\n",
      "[Parallel(n_jobs=3)]: Using backend LokyBackend with 3 concurrent workers.\n"
     ]
    },
    {
     "name": "stdout",
     "output_type": "stream",
     "text": [
      "### Tuning SVR... ###\n",
      "Fitting 3 folds for each of 80 candidates, totalling 240 fits\n"
     ]
    },
    {
     "name": "stderr",
     "output_type": "stream",
     "text": [
      "[Parallel(n_jobs=3)]: Done 146 tasks      | elapsed:    2.9s\n",
      "[Parallel(n_jobs=3)]: Done 235 out of 240 | elapsed:    4.8s remaining:    0.0s\n",
      "[Parallel(n_jobs=3)]: Done 240 out of 240 | elapsed:    4.9s finished\n"
     ]
    },
    {
     "name": "stdout",
     "output_type": "stream",
     "text": [
      "### Tuning RandomForestRegressor... ###\n",
      "Fitting 3 folds for each of 80 candidates, totalling 240 fits\n"
     ]
    },
    {
     "name": "stderr",
     "output_type": "stream",
     "text": [
      "[Parallel(n_jobs=3)]: Using backend LokyBackend with 3 concurrent workers.\n",
      "[Parallel(n_jobs=3)]: Done  44 tasks      | elapsed:    8.5s\n",
      "[Parallel(n_jobs=3)]: Done 194 tasks      | elapsed:   35.0s\n",
      "[Parallel(n_jobs=3)]: Done 240 out of 240 | elapsed:   43.3s finished\n"
     ]
    },
    {
     "name": "stdout",
     "output_type": "stream",
     "text": [
      "### Tuning XGBRegressor... ###\n",
      "Fitting 3 folds for each of 80 candidates, totalling 240 fits\n"
     ]
    },
    {
     "name": "stderr",
     "output_type": "stream",
     "text": [
      "[Parallel(n_jobs=3)]: Using backend LokyBackend with 3 concurrent workers.\n",
      "[Parallel(n_jobs=3)]: Done  44 tasks      | elapsed:   10.5s\n",
      "[Parallel(n_jobs=3)]: Done 194 tasks      | elapsed:   46.3s\n",
      "[Parallel(n_jobs=3)]: Done 240 out of 240 | elapsed:   54.9s finished\n"
     ]
    },
    {
     "name": "stdout",
     "output_type": "stream",
     "text": [
      "\n",
      "### Best model: XGBRegressor ###\n",
      "Wall time: 1min 55s\n"
     ]
    }
   ],
   "source": [
    "%%time\n",
    "\n",
    "for X_train, X_test, y_train_norm, y_test_norm, transformer_y in prepare_datasets(\n",
    "        df,\n",
    "        number_of_splits=number_of_splits,\n",
    "        seed=seed,\n",
    "        do_convert_hour=do_convert_hour,\n",
    "        do_transform=do_transform\n",
    "):\n",
    "\n",
    "    selected_model, results_df = select_model(\n",
    "        X_train, y_train_norm, regressors_list=REGRESSORS_LIST,\n",
    "        k_fold=k_fold, n_iter=n_iter, n_jobs=n_jobs, verbose=verbose)\n",
    "    \n",
    "    selected_model.fit(X_train, y_train_norm)\n",
    "\n",
    "    y_train_pred, y_test_pred, y_train, y_test = get_predictions(\n",
    "        selected_model, X_train, y_train_norm, X_test, y_test_norm, \n",
    "        transformer_y=transformer_y)\n",
    "    \n",
    "    train_rmse, test_rmse = calc_rmse(y_train_pred, y_test_pred, y_train, y_test)"
   ]
  },
  {
   "cell_type": "markdown",
   "metadata": {},
   "source": [
    "We keep the last and only split of train and test set for the remaining of this model building. We could also try different splits, to evaluate the best option for each one of them, but for brevity of the results, we keep the one split.\n",
    "\n",
    "Let's see now the selected model and compare the regressors:"
   ]
  },
  {
   "cell_type": "code",
   "execution_count": 4,
   "metadata": {},
   "outputs": [
    {
     "name": "stdout",
     "output_type": "stream",
     "text": [
      "The selected model is:\n",
      "\n",
      "XGBRegressor(base_score=0.5, booster='gbtree', colsample_bylevel=1,\n",
      "             colsample_bynode=1, colsample_bytree=0.9999999999999999, gamma=2.7,\n",
      "             gpu_id=-1, importance_type='gain', interaction_constraints=None,\n",
      "             learning_rate=0.37, max_delta_step=0, max_depth=8,\n",
      "             min_child_weight=1, missing=nan, monotone_constraints=None,\n",
      "             n_estimators=450, n_jobs=0, num_parallel_tree=1,\n",
      "             objective='reg:squarederror', random_state=0, reg_alpha=0,\n",
      "             reg_lambda=1, scale_pos_weight=1, subsample=0.9999999999999999,\n",
      "             tree_method=None, validate_parameters=False, verbosity=None)\n",
      "\n",
      "With scores:\n",
      "Train RMSE = 638.1, Test RMSE = 554.9\n"
     ]
    }
   ],
   "source": [
    "print('The selected model is:\\n')\n",
    "\n",
    "print(selected_model)\n",
    "\n",
    "print('\\nWith scores:\\nTrain RMSE = {:.01f}, Test RMSE = {:.01f}'.format(\n",
    "    train_rmse, test_rmse))"
   ]
  },
  {
   "cell_type": "markdown",
   "metadata": {},
   "source": [
    "We will now see the results of the selection process between the regression algorithms in terms of the average test score, average prediction time and fit time."
   ]
  },
  {
   "cell_type": "code",
   "execution_count": 5,
   "metadata": {},
   "outputs": [
    {
     "data": {
      "image/png": "[encoded data removed]",
      "text/plain": [
       "<Figure size 1296x432 with 3 Axes>"
      ]
     },
     "metadata": {
      "needs_background": "light"
     },
     "output_type": "display_data"
    }
   ],
   "source": [
    "results_df.loc['mean_test_score'] = -results_df.loc['mean_test_score']\n",
    "num = len(results_df.index)\n",
    "fig, axes = plt.subplots(1, num // 2, figsize=(18, 6))\n",
    "for i in range(0, num, 2):\n",
    "    results_df.iloc[i, :].plot.bar(\n",
    "        ax=axes[i // 2],\n",
    "        yerr=results_df.iloc[i + 1, :] * 1.96\n",
    "    )\n",
    "    axes[i // 2].set_title(results_df.index[i][5:])"
   ]
  },
  {
   "cell_type": "markdown",
   "metadata": {},
   "source": [
    "The three best fits are obtained by XGBoost, Random Forest and SVR. As discussed in model.py, the selection criterion is only the maximisation of the test score (negative rmse), without taking into consideration the fit and predict times. Depending on the criteria the application, this could also change, e.g. filtering out algorithms with high prediction times, in case this creates delays to a real-time application.\n",
    "\n",
    "Note that the test_score here is the root mean squared error of the normalised y variable, and it is shown for comparison purposes."
   ]
  },
  {
   "cell_type": "markdown",
   "metadata": {},
   "source": [
    "## Bayesian Optimization\n",
    "\n",
    "Let's try Bayesian Optimisation for XGBoost now. We will start using the parameters found in the random search before, while also searching for other 9 starting points. The number of iterations will be set to 100 for now."
   ]
  },
  {
   "cell_type": "code",
   "execution_count": 6,
   "metadata": {},
   "outputs": [],
   "source": [
    "init_points = 10\n",
    "n_iter = 100\n",
    "\n",
    "initial_search_point = {\n",
    "    'max_depth': selected_model.max_depth,\n",
    "    'learning_rate': selected_model.learning_rate,\n",
    "    'n_estimators': selected_model.n_estimators,\n",
    "    'gamma': selected_model.gamma,\n",
    "    'subsample': selected_model.subsample,\n",
    "    'colsample_bytree': selected_model.colsample_bytree,\n",
    "}\n",
    "\n",
    "# setting search bounds\n",
    "xgb_search_bounds = {\n",
    "    'max_depth': (3, 9),\n",
    "    'learning_rate': (0.01, 1.0),\n",
    "    'n_estimators': (10, 500),\n",
    "    'gamma': (0, 5),\n",
    "    'subsample': (0.5, 1.0),\n",
    "    'colsample_bytree': (0.5, 1.0),\n",
    "}"
   ]
  },
  {
   "cell_type": "code",
   "execution_count": 7,
   "metadata": {},
   "outputs": [],
   "source": [
    "def xgboost_regressor_hyper_param(max_depth, learning_rate, n_estimators,\n",
    "                                  gamma, subsample, colsample_bytree):\n",
    "    \"\"\" \n",
    "        This is the function to be maximised by the optimization\n",
    "    \"\"\"\n",
    "    \n",
    "    # Convert these parameters to integers\n",
    "    max_depth = int(max_depth)\n",
    "    n_estimators = int(n_estimators)\n",
    "    \n",
    "    # create the model\n",
    "    xgb = XGBRegressor(\n",
    "        max_depth=max_depth,\n",
    "        learning_rate=learning_rate,\n",
    "        n_estimators=n_estimators,\n",
    "        gamma=gamma,\n",
    "        subsample=subsample,\n",
    "        colsample_bytree=colsample_bytree\n",
    "    )\n",
    "    # Calcculate mean score\n",
    "    mean_score = np.mean(\n",
    "        cross_val_score(xgb, X_train, y_train_norm, cv=5,\n",
    "                        scoring='neg_mean_squared_error'))\n",
    "    return mean_score\n",
    "\n",
    "# Create the optimization object\n",
    "optimizer = BayesianOptimization(\n",
    "    f=xgboost_regressor_hyper_param,\n",
    "    pbounds=xgb_search_bounds,\n",
    "    random_state=seed\n",
    ")\n",
    "\n",
    "# add the randomised search result as one of the initial search points \n",
    "optimizer.probe(\n",
    "    params=initial_search_point,\n",
    "    lazy=True,  # to evaluate these points only in the next `maximize`\n",
    ")"
   ]
  },
  {
   "cell_type": "code",
   "execution_count": 8,
   "metadata": {},
   "outputs": [
    {
     "name": "stdout",
     "output_type": "stream",
     "text": [
      "|   iter    |  target   | colsam... |   gamma   | learni... | max_depth | n_esti... | subsample |\n",
      "-------------------------------------------------------------------------------------------------\n",
      "| \u001b[0m 1       \u001b[0m | \u001b[0m-0.7587  \u001b[0m | \u001b[0m 1.0     \u001b[0m | \u001b[0m 2.7     \u001b[0m | \u001b[0m 0.37    \u001b[0m | \u001b[0m 8.0     \u001b[0m | \u001b[0m 450.0   \u001b[0m | \u001b[0m 1.0     \u001b[0m |\n",
      "| \u001b[0m 2       \u001b[0m | \u001b[0m-0.8821  \u001b[0m | \u001b[0m 0.6873  \u001b[0m | \u001b[0m 4.754   \u001b[0m | \u001b[0m 0.7347  \u001b[0m | \u001b[0m 6.592   \u001b[0m | \u001b[0m 86.45   \u001b[0m | \u001b[0m 0.578   \u001b[0m |\n",
      "| \u001b[95m 3       \u001b[0m | \u001b[95m-0.7456  \u001b[0m | \u001b[95m 0.529   \u001b[0m | \u001b[95m 4.331   \u001b[0m | \u001b[95m 0.6051  \u001b[0m | \u001b[95m 7.248   \u001b[0m | \u001b[95m 20.09   \u001b[0m | \u001b[95m 0.985   \u001b[0m |\n",
      "| \u001b[95m 4       \u001b[0m | \u001b[95m-0.7404  \u001b[0m | \u001b[95m 0.9162  \u001b[0m | \u001b[95m 1.062   \u001b[0m | \u001b[95m 0.19    \u001b[0m | \u001b[95m 4.1     \u001b[0m | \u001b[95m 159.1   \u001b[0m | \u001b[95m 0.7624  \u001b[0m |\n",
      "| \u001b[0m 5       \u001b[0m | \u001b[0m-0.8502  \u001b[0m | \u001b[0m 0.716   \u001b[0m | \u001b[0m 1.456   \u001b[0m | \u001b[0m 0.6157  \u001b[0m | \u001b[0m 3.837   \u001b[0m | \u001b[0m 153.2   \u001b[0m | \u001b[0m 0.6832  \u001b[0m |\n",
      "| \u001b[95m 6       \u001b[0m | \u001b[95m-0.7349  \u001b[0m | \u001b[95m 0.728   \u001b[0m | \u001b[95m 3.926   \u001b[0m | \u001b[95m 0.2077  \u001b[0m | \u001b[95m 6.085   \u001b[0m | \u001b[95m 300.3   \u001b[0m | \u001b[95m 0.5232  \u001b[0m |\n",
      "| \u001b[0m 7       \u001b[0m | \u001b[0m-0.7758  \u001b[0m | \u001b[0m 0.8038  \u001b[0m | \u001b[0m 0.8526  \u001b[0m | \u001b[0m 0.0744  \u001b[0m | \u001b[0m 8.693   \u001b[0m | \u001b[0m 483.2   \u001b[0m | \u001b[0m 0.9042  \u001b[0m |\n",
      "| \u001b[0m 8       \u001b[0m | \u001b[0m-1.113   \u001b[0m | \u001b[0m 0.6523  \u001b[0m | \u001b[0m 0.4884  \u001b[0m | \u001b[0m 0.6874  \u001b[0m | \u001b[0m 5.641   \u001b[0m | \u001b[0m 69.8    \u001b[0m | \u001b[0m 0.7476  \u001b[0m |\n",
      "| \u001b[0m 9       \u001b[0m | \u001b[0m-0.7365  \u001b[0m | \u001b[0m 0.5172  \u001b[0m | \u001b[0m 4.547   \u001b[0m | \u001b[0m 0.2662  \u001b[0m | \u001b[0m 6.975   \u001b[0m | \u001b[0m 162.7   \u001b[0m | \u001b[0m 0.76    \u001b[0m |\n",
      "| \u001b[0m 10      \u001b[0m | \u001b[0m-1.005   \u001b[0m | \u001b[0m 0.7734  \u001b[0m | \u001b[0m 0.9243  \u001b[0m | \u001b[0m 0.9699  \u001b[0m | \u001b[0m 7.651   \u001b[0m | \u001b[0m 470.4   \u001b[0m | \u001b[0m 0.9474  \u001b[0m |\n",
      "| \u001b[0m 11      \u001b[0m | \u001b[0m-0.7381  \u001b[0m | \u001b[0m 0.7989  \u001b[0m | \u001b[0m 4.609   \u001b[0m | \u001b[0m 0.09761 \u001b[0m | \u001b[0m 4.176   \u001b[0m | \u001b[0m 32.16   \u001b[0m | \u001b[0m 0.6627  \u001b[0m |\n",
      "| \u001b[95m 12      \u001b[0m | \u001b[95m-0.7222  \u001b[0m | \u001b[95m 1.0     \u001b[0m | \u001b[95m 5.0     \u001b[0m | \u001b[95m 0.01    \u001b[0m | \u001b[95m 9.0     \u001b[0m | \u001b[95m 378.4   \u001b[0m | \u001b[95m 0.5     \u001b[0m |\n",
      "| \u001b[95m 13      \u001b[0m | \u001b[95m-0.7137  \u001b[0m | \u001b[95m 0.9143  \u001b[0m | \u001b[95m 3.279   \u001b[0m | \u001b[95m 0.04753 \u001b[0m | \u001b[95m 4.726   \u001b[0m | \u001b[95m 161.0   \u001b[0m | \u001b[95m 0.6736  \u001b[0m |\n",
      "| \u001b[95m 14      \u001b[0m | \u001b[95m-0.6977  \u001b[0m | \u001b[95m 1.0     \u001b[0m | \u001b[95m 0.0     \u001b[0m | \u001b[95m 0.01    \u001b[0m | \u001b[95m 3.0     \u001b[0m | \u001b[95m 231.1   \u001b[0m | \u001b[95m 0.5     \u001b[0m |\n",
      "| \u001b[0m 15      \u001b[0m | \u001b[0m-1.164   \u001b[0m | \u001b[0m 0.5     \u001b[0m | \u001b[0m 0.0     \u001b[0m | \u001b[0m 1.0     \u001b[0m | \u001b[0m 3.0     \u001b[0m | \u001b[0m 413.0   \u001b[0m | \u001b[0m 1.0     \u001b[0m |\n",
      "| \u001b[0m 16      \u001b[0m | \u001b[0m-0.9517  \u001b[0m | \u001b[0m 0.8895  \u001b[0m | \u001b[0m 0.5523  \u001b[0m | \u001b[0m 0.5931  \u001b[0m | \u001b[0m 3.157   \u001b[0m | \u001b[0m 341.2   \u001b[0m | \u001b[0m 0.646   \u001b[0m |\n",
      "| \u001b[0m 17      \u001b[0m | \u001b[0m-0.749   \u001b[0m | \u001b[0m 0.5322  \u001b[0m | \u001b[0m 4.421   \u001b[0m | \u001b[0m 0.3109  \u001b[0m | \u001b[0m 3.034   \u001b[0m | \u001b[0m 197.0   \u001b[0m | \u001b[0m 0.9528  \u001b[0m |\n",
      "| \u001b[0m 18      \u001b[0m | \u001b[0m-0.8661  \u001b[0m | \u001b[0m 0.8441  \u001b[0m | \u001b[0m 4.816   \u001b[0m | \u001b[0m 0.5939  \u001b[0m | \u001b[0m 8.79    \u001b[0m | \u001b[0m 265.5   \u001b[0m | \u001b[0m 0.7084  \u001b[0m |\n",
      "| \u001b[0m 19      \u001b[0m | \u001b[0m-0.7532  \u001b[0m | \u001b[0m 0.6752  \u001b[0m | \u001b[0m 4.741   \u001b[0m | \u001b[0m 0.01034 \u001b[0m | \u001b[0m 6.286   \u001b[0m | \u001b[0m 499.6   \u001b[0m | \u001b[0m 0.9347  \u001b[0m |\n",
      "| \u001b[0m 20      \u001b[0m | \u001b[0m-0.7849  \u001b[0m | \u001b[0m 1.0     \u001b[0m | \u001b[0m 0.0     \u001b[0m | \u001b[0m 0.01    \u001b[0m | \u001b[0m 3.0     \u001b[0m | \u001b[0m 112.4   \u001b[0m | \u001b[0m 0.5     \u001b[0m |\n",
      "| \u001b[0m 21      \u001b[0m | \u001b[0m-0.716   \u001b[0m | \u001b[0m 0.5747  \u001b[0m | \u001b[0m 0.003959\u001b[0m | \u001b[0m 0.2364  \u001b[0m | \u001b[0m 3.451   \u001b[0m | \u001b[0m 10.76   \u001b[0m | \u001b[0m 0.7264  \u001b[0m |\n",
      "| \u001b[95m 22      \u001b[0m | \u001b[95m-0.6886  \u001b[0m | \u001b[95m 1.0     \u001b[0m | \u001b[95m 0.0     \u001b[0m | \u001b[95m 0.01    \u001b[0m | \u001b[95m 3.0     \u001b[0m | \u001b[95m 282.9   \u001b[0m | \u001b[95m 0.5     \u001b[0m |\n",
      "| \u001b[0m 23      \u001b[0m | \u001b[0m-0.9978  \u001b[0m | \u001b[0m 0.7797  \u001b[0m | \u001b[0m 0.462   \u001b[0m | \u001b[0m 0.7522  \u001b[0m | \u001b[0m 3.105   \u001b[0m | \u001b[0m 176.8   \u001b[0m | \u001b[0m 0.9503  \u001b[0m |\n",
      "| \u001b[0m 24      \u001b[0m | \u001b[0m-0.7377  \u001b[0m | \u001b[0m 1.0     \u001b[0m | \u001b[0m 5.0     \u001b[0m | \u001b[0m 0.01    \u001b[0m | \u001b[0m 9.0     \u001b[0m | \u001b[0m 216.2   \u001b[0m | \u001b[0m 0.5     \u001b[0m |\n",
      "| \u001b[0m 25      \u001b[0m | \u001b[0m-1.044   \u001b[0m | \u001b[0m 1.0     \u001b[0m | \u001b[0m 0.0     \u001b[0m | \u001b[0m 1.0     \u001b[0m | \u001b[0m 9.0     \u001b[0m | \u001b[0m 362.2   \u001b[0m | \u001b[0m 1.0     \u001b[0m |\n",
      "| \u001b[0m 26      \u001b[0m | \u001b[0m-1.044   \u001b[0m | \u001b[0m 1.0     \u001b[0m | \u001b[0m 0.0     \u001b[0m | \u001b[0m 1.0     \u001b[0m | \u001b[0m 9.0     \u001b[0m | \u001b[0m 319.6   \u001b[0m | \u001b[0m 1.0     \u001b[0m |\n",
      "| \u001b[0m 27      \u001b[0m | \u001b[0m-0.7214  \u001b[0m | \u001b[0m 1.0     \u001b[0m | \u001b[0m 5.0     \u001b[0m | \u001b[0m 0.01    \u001b[0m | \u001b[0m 9.0     \u001b[0m | \u001b[0m 432.5   \u001b[0m | \u001b[0m 0.5     \u001b[0m |\n",
      "| \u001b[0m 28      \u001b[0m | \u001b[0m-0.7698  \u001b[0m | \u001b[0m 0.5     \u001b[0m | \u001b[0m 5.0     \u001b[0m | \u001b[0m 0.01    \u001b[0m | \u001b[0m 3.0     \u001b[0m | \u001b[0m 246.2   \u001b[0m | \u001b[0m 0.5     \u001b[0m |\n",
      "| \u001b[0m 29      \u001b[0m | \u001b[0m-0.8096  \u001b[0m | \u001b[0m 1.0     \u001b[0m | \u001b[0m 5.0     \u001b[0m | \u001b[0m 0.01    \u001b[0m | \u001b[0m 9.0     \u001b[0m | \u001b[0m 108.6   \u001b[0m | \u001b[0m 1.0     \u001b[0m |\n",
      "| \u001b[0m 30      \u001b[0m | \u001b[0m-0.7499  \u001b[0m | \u001b[0m 0.5     \u001b[0m | \u001b[0m 5.0     \u001b[0m | \u001b[0m 0.01    \u001b[0m | \u001b[0m 3.0     \u001b[0m | \u001b[0m 375.0   \u001b[0m | \u001b[0m 0.5     \u001b[0m |\n",
      "| \u001b[0m 31      \u001b[0m | \u001b[0m-0.808   \u001b[0m | \u001b[0m 0.5     \u001b[0m | \u001b[0m 5.0     \u001b[0m | \u001b[0m 1.0     \u001b[0m | \u001b[0m 3.0     \u001b[0m | \u001b[0m 216.5   \u001b[0m | \u001b[0m 1.0     \u001b[0m |\n",
      "| \u001b[0m 32      \u001b[0m | \u001b[0m-1.029   \u001b[0m | \u001b[0m 1.0     \u001b[0m | \u001b[0m 0.0     \u001b[0m | \u001b[0m 0.01    \u001b[0m | \u001b[0m 9.0     \u001b[0m | \u001b[0m 34.01   \u001b[0m | \u001b[0m 0.5     \u001b[0m |\n",
      "| \u001b[0m 33      \u001b[0m | \u001b[0m-0.7446  \u001b[0m | \u001b[0m 0.5     \u001b[0m | \u001b[0m 5.0     \u001b[0m | \u001b[0m 0.01    \u001b[0m | \u001b[0m 3.0     \u001b[0m | \u001b[0m 441.2   \u001b[0m | \u001b[0m 0.5     \u001b[0m |\n",
      "| \u001b[0m 34      \u001b[0m | \u001b[0m-0.6917  \u001b[0m | \u001b[0m 1.0     \u001b[0m | \u001b[0m 0.0     \u001b[0m | \u001b[0m 0.01    \u001b[0m | \u001b[0m 9.0     \u001b[0m | \u001b[0m 204.9   \u001b[0m | \u001b[0m 0.5     \u001b[0m |\n",
      "| \u001b[0m 35      \u001b[0m | \u001b[0m-0.8377  \u001b[0m | \u001b[0m 1.0     \u001b[0m | \u001b[0m 0.0     \u001b[0m | \u001b[0m 0.01    \u001b[0m | \u001b[0m 9.0     \u001b[0m | \u001b[0m 244.5   \u001b[0m | \u001b[0m 1.0     \u001b[0m |\n",
      "| \u001b[0m 36      \u001b[0m | \u001b[0m-0.9263  \u001b[0m | \u001b[0m 0.9461  \u001b[0m | \u001b[0m 0.05688 \u001b[0m | \u001b[0m 0.3412  \u001b[0m | \u001b[0m 8.843   \u001b[0m | \u001b[0m 499.9   \u001b[0m | \u001b[0m 0.7242  \u001b[0m |\n",
      "| \u001b[0m 37      \u001b[0m | \u001b[0m-0.7382  \u001b[0m | \u001b[0m 0.7716  \u001b[0m | \u001b[0m 4.375   \u001b[0m | \u001b[0m 0.132   \u001b[0m | \u001b[0m 3.048   \u001b[0m | \u001b[0m 485.7   \u001b[0m | \u001b[0m 0.5887  \u001b[0m |\n",
      "| \u001b[0m 38      \u001b[0m | \u001b[0m-0.7221  \u001b[0m | \u001b[0m 1.0     \u001b[0m | \u001b[0m 5.0     \u001b[0m | \u001b[0m 0.01    \u001b[0m | \u001b[0m 9.0     \u001b[0m | \u001b[0m 394.5   \u001b[0m | \u001b[0m 0.5     \u001b[0m |\n",
      "| \u001b[0m 39      \u001b[0m | \u001b[0m-0.775   \u001b[0m | \u001b[0m 1.0     \u001b[0m | \u001b[0m 5.0     \u001b[0m | \u001b[0m 1.0     \u001b[0m | \u001b[0m 3.0     \u001b[0m | \u001b[0m 286.7   \u001b[0m | \u001b[0m 1.0     \u001b[0m |\n",
      "| \u001b[0m 40      \u001b[0m | \u001b[0m-0.7997  \u001b[0m | \u001b[0m 0.8049  \u001b[0m | \u001b[0m 4.848   \u001b[0m | \u001b[0m 0.5198  \u001b[0m | \u001b[0m 3.538   \u001b[0m | \u001b[0m 10.14   \u001b[0m | \u001b[0m 0.6903  \u001b[0m |\n",
      "| \u001b[0m 41      \u001b[0m | \u001b[0m-0.8736  \u001b[0m | \u001b[0m 0.5     \u001b[0m | \u001b[0m 5.0     \u001b[0m | \u001b[0m 0.01    \u001b[0m | \u001b[0m 3.0     \u001b[0m | \u001b[0m 100.4   \u001b[0m | \u001b[0m 1.0     \u001b[0m |\n",
      "| \u001b[0m 42      \u001b[0m | \u001b[0m-1.086   \u001b[0m | \u001b[0m 1.0     \u001b[0m | \u001b[0m 0.0     \u001b[0m | \u001b[0m 1.0     \u001b[0m | \u001b[0m 3.0     \u001b[0m | \u001b[0m 22.8    \u001b[0m | \u001b[0m 1.0     \u001b[0m |\n",
      "| \u001b[0m 43      \u001b[0m | \u001b[0m-0.8626  \u001b[0m | \u001b[0m 0.5203  \u001b[0m | \u001b[0m 4.945   \u001b[0m | \u001b[0m 0.9653  \u001b[0m | \u001b[0m 8.621   \u001b[0m | \u001b[0m 52.54   \u001b[0m | \u001b[0m 0.9462  \u001b[0m |\n",
      "| \u001b[0m 44      \u001b[0m | \u001b[0m-0.9498  \u001b[0m | \u001b[0m 0.6703  \u001b[0m | \u001b[0m 1.283   \u001b[0m | \u001b[0m 0.7669  \u001b[0m | \u001b[0m 8.985   \u001b[0m | \u001b[0m 10.14   \u001b[0m | \u001b[0m 0.78    \u001b[0m |\n",
      "| \u001b[0m 45      \u001b[0m | \u001b[0m-0.7338  \u001b[0m | \u001b[0m 0.9599  \u001b[0m | \u001b[0m 4.985   \u001b[0m | \u001b[0m 0.27    \u001b[0m | \u001b[0m 3.138   \u001b[0m | \u001b[0m 127.5   \u001b[0m | \u001b[0m 0.9269  \u001b[0m |\n",
      "| \u001b[0m 46      \u001b[0m | \u001b[0m-0.8634  \u001b[0m | \u001b[0m 0.6053  \u001b[0m | \u001b[0m 0.2577  \u001b[0m | \u001b[0m 0.1148  \u001b[0m | \u001b[0m 3.304   \u001b[0m | \u001b[0m 386.6   \u001b[0m | \u001b[0m 0.5264  \u001b[0m |\n",
      "| \u001b[0m 47      \u001b[0m | \u001b[0m-0.8605  \u001b[0m | \u001b[0m 0.5313  \u001b[0m | \u001b[0m 0.6959  \u001b[0m | \u001b[0m 0.364   \u001b[0m | \u001b[0m 8.969   \u001b[0m | \u001b[0m 291.9   \u001b[0m | \u001b[0m 0.6348  \u001b[0m |\n",
      "| \u001b[0m 48      \u001b[0m | \u001b[0m-1.593   \u001b[0m | \u001b[0m 0.7567  \u001b[0m | \u001b[0m 0.1188  \u001b[0m | \u001b[0m 0.9028  \u001b[0m | \u001b[0m 3.267   \u001b[0m | \u001b[0m 260.1   \u001b[0m | \u001b[0m 0.5017  \u001b[0m |\n",
      "| \u001b[0m 49      \u001b[0m | \u001b[0m-1.011   \u001b[0m | \u001b[0m 0.5     \u001b[0m | \u001b[0m 5.0     \u001b[0m | \u001b[0m 1.0     \u001b[0m | \u001b[0m 9.0     \u001b[0m | \u001b[0m 234.7   \u001b[0m | \u001b[0m 0.5     \u001b[0m |\n",
      "| \u001b[0m 50      \u001b[0m | \u001b[0m-1.332   \u001b[0m | \u001b[0m 0.7647  \u001b[0m | \u001b[0m 0.003048\u001b[0m | \u001b[0m 0.8603  \u001b[0m | \u001b[0m 8.897   \u001b[0m | \u001b[0m 130.6   \u001b[0m | \u001b[0m 0.5577  \u001b[0m |\n",
      "| \u001b[0m 51      \u001b[0m | \u001b[0m-0.729   \u001b[0m | \u001b[0m 1.0     \u001b[0m | \u001b[0m 5.0     \u001b[0m | \u001b[0m 0.01    \u001b[0m | \u001b[0m 9.0     \u001b[0m | \u001b[0m 277.9   \u001b[0m | \u001b[0m 0.5     \u001b[0m |\n",
      "| \u001b[0m 52      \u001b[0m | \u001b[0m-1.263   \u001b[0m | \u001b[0m 1.0     \u001b[0m | \u001b[0m 0.0     \u001b[0m | \u001b[0m 1.0     \u001b[0m | \u001b[0m 3.0     \u001b[0m | \u001b[0m 308.0   \u001b[0m | \u001b[0m 1.0     \u001b[0m |\n",
      "| \u001b[0m 53      \u001b[0m | \u001b[0m-0.7467  \u001b[0m | \u001b[0m 0.5     \u001b[0m | \u001b[0m 5.0     \u001b[0m | \u001b[0m 0.01    \u001b[0m | \u001b[0m 9.0     \u001b[0m | \u001b[0m 334.0   \u001b[0m | \u001b[0m 0.5     \u001b[0m |\n",
      "| \u001b[0m 54      \u001b[0m | \u001b[0m-0.9547  \u001b[0m | \u001b[0m 0.8795  \u001b[0m | \u001b[0m 0.04803 \u001b[0m | \u001b[0m 0.3716  \u001b[0m | \u001b[0m 8.341   \u001b[0m | \u001b[0m 437.8   \u001b[0m | \u001b[0m 0.9984  \u001b[0m |\n",
      "| \u001b[0m 55      \u001b[0m | \u001b[0m-0.7612  \u001b[0m | \u001b[0m 0.9469  \u001b[0m | \u001b[0m 4.358   \u001b[0m | \u001b[0m 0.3016  \u001b[0m | \u001b[0m 8.966   \u001b[0m | \u001b[0m 192.6   \u001b[0m | \u001b[0m 0.9396  \u001b[0m |\n",
      "| \u001b[0m 56      \u001b[0m | \u001b[0m-0.7426  \u001b[0m | \u001b[0m 1.0     \u001b[0m | \u001b[0m 5.0     \u001b[0m | \u001b[0m 0.01    \u001b[0m | \u001b[0m 3.0     \u001b[0m | \u001b[0m 353.1   \u001b[0m | \u001b[0m 1.0     \u001b[0m |\n",
      "| \u001b[0m 57      \u001b[0m | \u001b[0m-1.032   \u001b[0m | \u001b[0m 0.5     \u001b[0m | \u001b[0m 5.0     \u001b[0m | \u001b[0m 1.0     \u001b[0m | \u001b[0m 9.0     \u001b[0m | \u001b[0m 347.2   \u001b[0m | \u001b[0m 0.5     \u001b[0m |\n",
      "| \u001b[0m 58      \u001b[0m | \u001b[0m-0.7825  \u001b[0m | \u001b[0m 0.5126  \u001b[0m | \u001b[0m 4.897   \u001b[0m | \u001b[0m 0.4062  \u001b[0m | \u001b[0m 3.074   \u001b[0m | \u001b[0m 325.4   \u001b[0m | \u001b[0m 0.7691  \u001b[0m |\n",
      "| \u001b[0m 59      \u001b[0m | \u001b[0m-0.7671  \u001b[0m | \u001b[0m 1.0     \u001b[0m | \u001b[0m 5.0     \u001b[0m | \u001b[0m 0.01    \u001b[0m | \u001b[0m 9.0     \u001b[0m | \u001b[0m 490.2   \u001b[0m | \u001b[0m 1.0     \u001b[0m |\n",
      "| \u001b[0m 60      \u001b[0m | \u001b[0m-1.456   \u001b[0m | \u001b[0m 1.0     \u001b[0m | \u001b[0m 0.0     \u001b[0m | \u001b[0m 1.0     \u001b[0m | \u001b[0m 9.0     \u001b[0m | \u001b[0m 95.52   \u001b[0m | \u001b[0m 0.5     \u001b[0m |\n",
      "| \u001b[0m 61      \u001b[0m | \u001b[0m-1.064   \u001b[0m | \u001b[0m 0.5     \u001b[0m | \u001b[0m 5.0     \u001b[0m | \u001b[0m 0.01    \u001b[0m | \u001b[0m 3.0     \u001b[0m | \u001b[0m 45.26   \u001b[0m | \u001b[0m 0.5     \u001b[0m |\n",
      "| \u001b[0m 62      \u001b[0m | \u001b[0m-0.7415  \u001b[0m | \u001b[0m 0.6686  \u001b[0m | \u001b[0m 4.616   \u001b[0m | \u001b[0m 0.3124  \u001b[0m | \u001b[0m 3.171   \u001b[0m | \u001b[0m 118.2   \u001b[0m | \u001b[0m 0.9507  \u001b[0m |\n",
      "| \u001b[0m 63      \u001b[0m | \u001b[0m-0.7405  \u001b[0m | \u001b[0m 0.6134  \u001b[0m | \u001b[0m 4.84    \u001b[0m | \u001b[0m 0.1842  \u001b[0m | \u001b[0m 3.045   \u001b[0m | \u001b[0m 458.5   \u001b[0m | \u001b[0m 0.837   \u001b[0m |\n",
      "| \u001b[0m 64      \u001b[0m | \u001b[0m-0.7214  \u001b[0m | \u001b[0m 1.0     \u001b[0m | \u001b[0m 5.0     \u001b[0m | \u001b[0m 0.01    \u001b[0m | \u001b[0m 9.0     \u001b[0m | \u001b[0m 416.9   \u001b[0m | \u001b[0m 0.5     \u001b[0m |\n",
      "| \u001b[0m 65      \u001b[0m | \u001b[0m-0.7492  \u001b[0m | \u001b[0m 0.5     \u001b[0m | \u001b[0m 5.0     \u001b[0m | \u001b[0m 0.01    \u001b[0m | \u001b[0m 9.0     \u001b[0m | \u001b[0m 310.7   \u001b[0m | \u001b[0m 0.5     \u001b[0m |\n",
      "| \u001b[0m 66      \u001b[0m | \u001b[0m-0.7888  \u001b[0m | \u001b[0m 0.6488  \u001b[0m | \u001b[0m 4.95    \u001b[0m | \u001b[0m 0.2902  \u001b[0m | \u001b[0m 8.883   \u001b[0m | \u001b[0m 73.73   \u001b[0m | \u001b[0m 0.577   \u001b[0m |\n",
      "| \u001b[0m 67      \u001b[0m | \u001b[0m-0.949   \u001b[0m | \u001b[0m 1.0     \u001b[0m | \u001b[0m 5.0     \u001b[0m | \u001b[0m 1.0     \u001b[0m | \u001b[0m 9.0     \u001b[0m | \u001b[0m 204.4   \u001b[0m | \u001b[0m 0.5     \u001b[0m |\n",
      "| \u001b[0m 68      \u001b[0m | \u001b[0m-0.8774  \u001b[0m | \u001b[0m 0.7471  \u001b[0m | \u001b[0m 0.1546  \u001b[0m | \u001b[0m 0.2603  \u001b[0m | \u001b[0m 8.812   \u001b[0m | \u001b[0m 220.8   \u001b[0m | \u001b[0m 0.5506  \u001b[0m |\n",
      "| \u001b[0m 69      \u001b[0m | \u001b[0m-0.7422  \u001b[0m | \u001b[0m 1.0     \u001b[0m | \u001b[0m 5.0     \u001b[0m | \u001b[0m 0.01    \u001b[0m | \u001b[0m 3.0     \u001b[0m | \u001b[0m 425.7   \u001b[0m | \u001b[0m 1.0     \u001b[0m |\n",
      "| \u001b[0m 70      \u001b[0m | \u001b[0m-0.7082  \u001b[0m | \u001b[0m 1.0     \u001b[0m | \u001b[0m 0.0     \u001b[0m | \u001b[0m 0.01    \u001b[0m | \u001b[0m 3.0     \u001b[0m | \u001b[0m 192.2   \u001b[0m | \u001b[0m 0.5     \u001b[0m |\n",
      "| \u001b[0m 71      \u001b[0m | \u001b[0m-1.129   \u001b[0m | \u001b[0m 0.8807  \u001b[0m | \u001b[0m 0.04283 \u001b[0m | \u001b[0m 0.5252  \u001b[0m | \u001b[0m 3.704   \u001b[0m | \u001b[0m 492.8   \u001b[0m | \u001b[0m 0.5717  \u001b[0m |\n",
      "| \u001b[0m 72      \u001b[0m | \u001b[0m-0.7298  \u001b[0m | \u001b[0m 0.8974  \u001b[0m | \u001b[0m 4.991   \u001b[0m | \u001b[0m 0.07078 \u001b[0m | \u001b[0m 8.153   \u001b[0m | \u001b[0m 476.7   \u001b[0m | \u001b[0m 0.8061  \u001b[0m |\n",
      "| \u001b[0m 73      \u001b[0m | \u001b[0m-0.9513  \u001b[0m | \u001b[0m 0.5     \u001b[0m | \u001b[0m 5.0     \u001b[0m | \u001b[0m 0.01    \u001b[0m | \u001b[0m 3.0     \u001b[0m | \u001b[0m 77.8    \u001b[0m | \u001b[0m 0.5     \u001b[0m |\n",
      "| \u001b[0m 74      \u001b[0m | \u001b[0m-1.078   \u001b[0m | \u001b[0m 0.5     \u001b[0m | \u001b[0m 5.0     \u001b[0m | \u001b[0m 0.01    \u001b[0m | \u001b[0m 9.0     \u001b[0m | \u001b[0m 35.87   \u001b[0m | \u001b[0m 1.0     \u001b[0m |\n",
      "| \u001b[0m 75      \u001b[0m | \u001b[0m-0.7091  \u001b[0m | \u001b[0m 1.0     \u001b[0m | \u001b[0m 0.0     \u001b[0m | \u001b[0m 0.01    \u001b[0m | \u001b[0m 3.0     \u001b[0m | \u001b[0m 209.4   \u001b[0m | \u001b[0m 1.0     \u001b[0m |\n",
      "| \u001b[0m 76      \u001b[0m | \u001b[0m-0.7251  \u001b[0m | \u001b[0m 1.0     \u001b[0m | \u001b[0m 5.0     \u001b[0m | \u001b[0m 0.01    \u001b[0m | \u001b[0m 3.0     \u001b[0m | \u001b[0m 401.0   \u001b[0m | \u001b[0m 0.5     \u001b[0m |\n",
      "| \u001b[0m 77      \u001b[0m | \u001b[0m-0.7396  \u001b[0m | \u001b[0m 0.7243  \u001b[0m | \u001b[0m 4.982   \u001b[0m | \u001b[0m 0.2618  \u001b[0m | \u001b[0m 3.067   \u001b[0m | \u001b[0m 387.9   \u001b[0m | \u001b[0m 0.8938  \u001b[0m |\n",
      "| \u001b[0m 78      \u001b[0m | \u001b[0m-0.7669  \u001b[0m | \u001b[0m 1.0     \u001b[0m | \u001b[0m 5.0     \u001b[0m | \u001b[0m 0.01    \u001b[0m | \u001b[0m 3.0     \u001b[0m | \u001b[0m 139.9   \u001b[0m | \u001b[0m 1.0     \u001b[0m |\n",
      "| \u001b[0m 79      \u001b[0m | \u001b[0m-0.825   \u001b[0m | \u001b[0m 0.643   \u001b[0m | \u001b[0m 4.985   \u001b[0m | \u001b[0m 0.01884 \u001b[0m | \u001b[0m 3.42    \u001b[0m | \u001b[0m 62.11   \u001b[0m | \u001b[0m 0.6972  \u001b[0m |\n",
      "| \u001b[0m 80      \u001b[0m | \u001b[0m-0.7396  \u001b[0m | \u001b[0m 0.7141  \u001b[0m | \u001b[0m 4.955   \u001b[0m | \u001b[0m 0.02155 \u001b[0m | \u001b[0m 3.009   \u001b[0m | \u001b[0m 364.3   \u001b[0m | \u001b[0m 0.8196  \u001b[0m |\n",
      "| \u001b[0m 81      \u001b[0m | \u001b[0m-0.751   \u001b[0m | \u001b[0m 1.0     \u001b[0m | \u001b[0m 5.0     \u001b[0m | \u001b[0m 0.01    \u001b[0m | \u001b[0m 9.0     \u001b[0m | \u001b[0m 180.1   \u001b[0m | \u001b[0m 0.5     \u001b[0m |\n",
      "| \u001b[0m 82      \u001b[0m | \u001b[0m-0.913   \u001b[0m | \u001b[0m 1.0     \u001b[0m | \u001b[0m 5.0     \u001b[0m | \u001b[0m 0.01    \u001b[0m | \u001b[0m 9.0     \u001b[0m | \u001b[0m 62.35   \u001b[0m | \u001b[0m 1.0     \u001b[0m |\n",
      "| \u001b[0m 83      \u001b[0m | \u001b[0m-0.7945  \u001b[0m | \u001b[0m 0.5     \u001b[0m | \u001b[0m 5.0     \u001b[0m | \u001b[0m 1.0     \u001b[0m | \u001b[0m 9.0     \u001b[0m | \u001b[0m 405.6   \u001b[0m | \u001b[0m 1.0     \u001b[0m |\n",
      "| \u001b[0m 84      \u001b[0m | \u001b[0m-0.7368  \u001b[0m | \u001b[0m 0.5     \u001b[0m | \u001b[0m 5.0     \u001b[0m | \u001b[0m 0.01    \u001b[0m | \u001b[0m 9.0     \u001b[0m | \u001b[0m 458.2   \u001b[0m | \u001b[0m 0.5     \u001b[0m |\n",
      "| \u001b[0m 85      \u001b[0m | \u001b[0m-0.7669  \u001b[0m | \u001b[0m 1.0     \u001b[0m | \u001b[0m 5.0     \u001b[0m | \u001b[0m 0.01    \u001b[0m | \u001b[0m 9.0     \u001b[0m | \u001b[0m 251.0   \u001b[0m | \u001b[0m 1.0     \u001b[0m |\n",
      "| \u001b[0m 86      \u001b[0m | \u001b[0m-1.051   \u001b[0m | \u001b[0m 0.5     \u001b[0m | \u001b[0m 5.0     \u001b[0m | \u001b[0m 1.0     \u001b[0m | \u001b[0m 3.0     \u001b[0m | \u001b[0m 109.8   \u001b[0m | \u001b[0m 0.5     \u001b[0m |\n",
      "| \u001b[0m 87      \u001b[0m | \u001b[0m-0.7858  \u001b[0m | \u001b[0m 0.5     \u001b[0m | \u001b[0m 0.0     \u001b[0m | \u001b[0m 0.01    \u001b[0m | \u001b[0m 9.0     \u001b[0m | \u001b[0m 116.8   \u001b[0m | \u001b[0m 1.0     \u001b[0m |\n",
      "| \u001b[0m 88      \u001b[0m | \u001b[0m-0.7253  \u001b[0m | \u001b[0m 1.0     \u001b[0m | \u001b[0m 5.0     \u001b[0m | \u001b[0m 0.01    \u001b[0m | \u001b[0m 9.0     \u001b[0m | \u001b[0m 324.1   \u001b[0m | \u001b[0m 0.5     \u001b[0m |\n",
      "| \u001b[0m 89      \u001b[0m | \u001b[0m-0.7588  \u001b[0m | \u001b[0m 1.0     \u001b[0m | \u001b[0m 0.0     \u001b[0m | \u001b[0m 0.01    \u001b[0m | \u001b[0m 3.0     \u001b[0m | \u001b[0m 122.5   \u001b[0m | \u001b[0m 1.0     \u001b[0m |\n",
      "| \u001b[0m 90      \u001b[0m | \u001b[0m-0.7755  \u001b[0m | \u001b[0m 1.0     \u001b[0m | \u001b[0m 5.0     \u001b[0m | \u001b[0m 0.01    \u001b[0m | \u001b[0m 9.0     \u001b[0m | \u001b[0m 153.3   \u001b[0m | \u001b[0m 1.0     \u001b[0m |\n",
      "| \u001b[0m 91      \u001b[0m | \u001b[0m-1.572   \u001b[0m | \u001b[0m 1.0     \u001b[0m | \u001b[0m 0.0     \u001b[0m | \u001b[0m 1.0     \u001b[0m | \u001b[0m 3.0     \u001b[0m | \u001b[0m 54.69   \u001b[0m | \u001b[0m 0.5     \u001b[0m |\n",
      "| \u001b[0m 92      \u001b[0m | \u001b[0m-0.7464  \u001b[0m | \u001b[0m 0.5     \u001b[0m | \u001b[0m 5.0     \u001b[0m | \u001b[0m 0.01    \u001b[0m | \u001b[0m 3.0     \u001b[0m | \u001b[0m 275.2   \u001b[0m | \u001b[0m 1.0     \u001b[0m |\n",
      "| \u001b[0m 93      \u001b[0m | \u001b[0m-1.051   \u001b[0m | \u001b[0m 0.5     \u001b[0m | \u001b[0m 5.0     \u001b[0m | \u001b[0m 1.0     \u001b[0m | \u001b[0m 3.0     \u001b[0m | \u001b[0m 186.4   \u001b[0m | \u001b[0m 0.5     \u001b[0m |\n",
      "| \u001b[0m 94      \u001b[0m | \u001b[0m-0.72    \u001b[0m | \u001b[0m 0.5     \u001b[0m | \u001b[0m 0.0     \u001b[0m | \u001b[0m 0.01    \u001b[0m | \u001b[0m 9.0     \u001b[0m | \u001b[0m 184.9   \u001b[0m | \u001b[0m 1.0     \u001b[0m |\n",
      "| \u001b[0m 95      \u001b[0m | \u001b[0m-0.9072  \u001b[0m | \u001b[0m 0.9604  \u001b[0m | \u001b[0m 0.2102  \u001b[0m | \u001b[0m 0.4042  \u001b[0m | \u001b[0m 8.632   \u001b[0m | \u001b[0m 168.9   \u001b[0m | \u001b[0m 0.5427  \u001b[0m |\n",
      "| \u001b[0m 96      \u001b[0m | \u001b[0m-0.8092  \u001b[0m | \u001b[0m 1.0     \u001b[0m | \u001b[0m 0.0     \u001b[0m | \u001b[0m 0.01    \u001b[0m | \u001b[0m 9.0     \u001b[0m | \u001b[0m 196.5   \u001b[0m | \u001b[0m 1.0     \u001b[0m |\n",
      "| \u001b[0m 97      \u001b[0m | \u001b[0m-1.08    \u001b[0m | \u001b[0m 0.5     \u001b[0m | \u001b[0m 0.0     \u001b[0m | \u001b[0m 1.0     \u001b[0m | \u001b[0m 9.0     \u001b[0m | \u001b[0m 275.0   \u001b[0m | \u001b[0m 1.0     \u001b[0m |\n",
      "| \u001b[95m 98      \u001b[0m | \u001b[95m-0.6882  \u001b[0m | \u001b[95m 1.0     \u001b[0m | \u001b[95m 0.0     \u001b[0m | \u001b[95m 0.01    \u001b[0m | \u001b[95m 3.0     \u001b[0m | \u001b[95m 452.8   \u001b[0m | \u001b[95m 0.5     \u001b[0m |\n",
      "| \u001b[0m 99      \u001b[0m | \u001b[0m-0.7429  \u001b[0m | \u001b[0m 1.0     \u001b[0m | \u001b[0m 5.0     \u001b[0m | \u001b[0m 0.01    \u001b[0m | \u001b[0m 3.0     \u001b[0m | \u001b[0m 336.2   \u001b[0m | \u001b[0m 1.0     \u001b[0m |\n",
      "| \u001b[0m 100     \u001b[0m | \u001b[0m-0.7668  \u001b[0m | \u001b[0m 1.0     \u001b[0m | \u001b[0m 5.0     \u001b[0m | \u001b[0m 0.01    \u001b[0m | \u001b[0m 9.0     \u001b[0m | \u001b[0m 300.3   \u001b[0m | \u001b[0m 1.0     \u001b[0m |\n",
      "| \u001b[0m 101     \u001b[0m | \u001b[0m-0.7465  \u001b[0m | \u001b[0m 1.0     \u001b[0m | \u001b[0m 5.0     \u001b[0m | \u001b[0m 0.01    \u001b[0m | \u001b[0m 3.0     \u001b[0m | \u001b[0m 226.9   \u001b[0m | \u001b[0m 1.0     \u001b[0m |\n",
      "| \u001b[0m 102     \u001b[0m | \u001b[0m-1.035   \u001b[0m | \u001b[0m 0.5     \u001b[0m | \u001b[0m 5.0     \u001b[0m | \u001b[0m 1.0     \u001b[0m | \u001b[0m 9.0     \u001b[0m | \u001b[0m 424.7   \u001b[0m | \u001b[0m 0.5     \u001b[0m |\n",
      "| \u001b[0m 103     \u001b[0m | \u001b[0m-0.7454  \u001b[0m | \u001b[0m 0.7085  \u001b[0m | \u001b[0m 4.822   \u001b[0m | \u001b[0m 0.4855  \u001b[0m | \u001b[0m 3.067   \u001b[0m | \u001b[0m 412.7   \u001b[0m | \u001b[0m 0.8272  \u001b[0m |\n",
      "| \u001b[0m 104     \u001b[0m | \u001b[0m-1.23    \u001b[0m | \u001b[0m 0.9236  \u001b[0m | \u001b[0m 0.03521 \u001b[0m | \u001b[0m 0.7424  \u001b[0m | \u001b[0m 3.621   \u001b[0m | \u001b[0m 370.7   \u001b[0m | \u001b[0m 0.6935  \u001b[0m |\n",
      "| \u001b[0m 105     \u001b[0m | \u001b[0m-0.7235  \u001b[0m | \u001b[0m 1.0     \u001b[0m | \u001b[0m 5.0     \u001b[0m | \u001b[0m 0.01    \u001b[0m | \u001b[0m 3.0     \u001b[0m | \u001b[0m 476.5   \u001b[0m | \u001b[0m 0.5     \u001b[0m |\n",
      "| \u001b[0m 106     \u001b[0m | \u001b[0m-0.7589  \u001b[0m | \u001b[0m 0.5     \u001b[0m | \u001b[0m 5.0     \u001b[0m | \u001b[0m 0.01    \u001b[0m | \u001b[0m 9.0     \u001b[0m | \u001b[0m 367.2   \u001b[0m | \u001b[0m 1.0     \u001b[0m |\n",
      "| \u001b[0m 107     \u001b[0m | \u001b[0m-0.7459  \u001b[0m | \u001b[0m 1.0     \u001b[0m | \u001b[0m 5.0     \u001b[0m | \u001b[0m 0.01    \u001b[0m | \u001b[0m 3.0     \u001b[0m | \u001b[0m 238.0   \u001b[0m | \u001b[0m 1.0     \u001b[0m |\n",
      "| \u001b[0m 108     \u001b[0m | \u001b[0m-1.168   \u001b[0m | \u001b[0m 0.5     \u001b[0m | \u001b[0m 5.0     \u001b[0m | \u001b[0m 0.01    \u001b[0m | \u001b[0m 3.0     \u001b[0m | \u001b[0m 24.96   \u001b[0m | \u001b[0m 0.5     \u001b[0m |\n",
      "| \u001b[0m 109     \u001b[0m | \u001b[0m-0.7376  \u001b[0m | \u001b[0m 0.5     \u001b[0m | \u001b[0m 5.0     \u001b[0m | \u001b[0m 0.01    \u001b[0m | \u001b[0m 9.0     \u001b[0m | \u001b[0m 441.5   \u001b[0m | \u001b[0m 0.5     \u001b[0m |\n",
      "| \u001b[0m 110     \u001b[0m | \u001b[0m-0.7131  \u001b[0m | \u001b[0m 0.5     \u001b[0m | \u001b[0m 0.0     \u001b[0m | \u001b[0m 0.01    \u001b[0m | \u001b[0m 9.0     \u001b[0m | \u001b[0m 211.9   \u001b[0m | \u001b[0m 1.0     \u001b[0m |\n",
      "| \u001b[0m 111     \u001b[0m | \u001b[0m-0.7606  \u001b[0m | \u001b[0m 0.5     \u001b[0m | \u001b[0m 5.0     \u001b[0m | \u001b[0m 0.01    \u001b[0m | \u001b[0m 3.0     \u001b[0m | \u001b[0m 295.2   \u001b[0m | \u001b[0m 0.5     \u001b[0m |\n",
      "=================================================================================================\n",
      "Wall time: 6min 37s\n"
     ]
    }
   ],
   "source": [
    "%%time\n",
    "\n",
    "# run the optimization\n",
    "optimizer.maximize(\n",
    "    init_points=init_points,\n",
    "    n_iter=n_iter\n",
    ")"
   ]
  },
  {
   "cell_type": "markdown",
   "metadata": {},
   "source": [
    "Get the best parameters dictionary"
   ]
  },
  {
   "cell_type": "code",
   "execution_count": 9,
   "metadata": {},
   "outputs": [
    {
     "name": "stdout",
     "output_type": "stream",
     "text": [
      "The parameters that minimize mean squared error are:\n",
      "{'colsample_bytree': 1.0, 'gamma': 0.0, 'learning_rate': 0.01, 'max_depth': 3, 'n_estimators': 452, 'subsample': 0.5}\n"
     ]
    }
   ],
   "source": [
    "best_params = optimizer.max['params']\n",
    "best_params['max_depth'] = int(best_params['max_depth'])\n",
    "best_params['n_estimators'] = int(best_params['n_estimators'])\n",
    "\n",
    "print('The parameters that minimize mean squared error are:')\n",
    "print(best_params)"
   ]
  },
  {
   "cell_type": "markdown",
   "metadata": {},
   "source": [
    "We then train the final model based on the best parameters found by the Bayesian Optimization"
   ]
  },
  {
   "cell_type": "code",
   "execution_count": 10,
   "metadata": {},
   "outputs": [
    {
     "name": "stdout",
     "output_type": "stream",
     "text": [
      "Wall time: 622 ms\n"
     ]
    }
   ],
   "source": [
    "%%time\n",
    "model = XGBRegressor(**best_params)\n",
    "\n",
    "model.fit(X_train, y_train_norm)\n",
    "\n",
    "y_train_pred, y_test_pred, y_train, y_test = get_predictions(\n",
    "    model, X_train, y_train_norm, X_test, y_test_norm,\n",
    "    transformer_y=transformer_y)\n",
    "\n",
    "train_rmse, test_rmse = calc_rmse(y_train_pred, y_test_pred, y_train, y_test)"
   ]
  },
  {
   "cell_type": "code",
   "execution_count": 11,
   "metadata": {},
   "outputs": [
    {
     "name": "stdout",
     "output_type": "stream",
     "text": [
      "\n",
      "Train RMSE = 693.6, Test RMSE = 532.9\n"
     ]
    }
   ],
   "source": [
    "print('\\nTrain RMSE = {:.01f}, Test RMSE = {:.01f}'.format(\n",
    "    train_rmse, test_rmse))"
   ]
  },
  {
   "cell_type": "markdown",
   "metadata": {},
   "source": [
    "We can also see the important features:"
   ]
  },
  {
   "cell_type": "code",
   "execution_count": 12,
   "metadata": {},
   "outputs": [
    {
     "data": {
      "image/png": "[encoded data removed]",
      "text/plain": [
       "<Figure size 432x288 with 1 Axes>"
      ]
     },
     "metadata": {
      "needs_background": "light"
     },
     "output_type": "display_data"
    }
   ],
   "source": [
    "pd.Series(model.feature_importances_, \n",
    "          index=X_train.columns).sort_values().tail(10).plot.barh();"
   ]
  },
  {
   "cell_type": "markdown",
   "metadata": {},
   "source": [
    "`Status` is the most important feature, with `Post Month_3` next, and `Page total likes` third.\n",
    "\n",
    "Lets's now see the fit in a grid:"
   ]
  },
  {
   "cell_type": "code",
   "execution_count": 13,
   "metadata": {},
   "outputs": [
    {
     "data": {
      "image/png": "[encoded data removed]",
      "text/plain": [
       "<Figure size 864x864 with 4 Axes>"
      ]
     },
     "metadata": {
      "needs_background": "light"
     },
     "output_type": "display_data"
    }
   ],
   "source": [
    "fig, axes = plt.subplots(2, 2, figsize=(12, 12))\n",
    "axes[0, 0].scatter(y_train, y_train_pred)\n",
    "axes[0, 0].set_title('Training Set')\n",
    "axes[1, 0].scatter(y_train, y_train_pred)\n",
    "axes[1, 0].set_title('Training Set - Zoom')\n",
    "axes[0, 1].scatter(y_test, y_test_pred)\n",
    "axes[0, 1].set_title('Test Set')\n",
    "axes[1, 1].scatter(y_test, y_test_pred)\n",
    "axes[1, 1].set_title('Test Set - Zoom')\n",
    "\n",
    "# Set the axis limits\n",
    "# First we find the max value of y\n",
    "y = np.concatenate([y_train, y_test])\n",
    "# We use 101% of the max value for the top scatterplots\n",
    "ymax = np.max(y) * 1.01\n",
    "# And the 95th percentile for the zoomed scatterplots\n",
    "yperc95 = np.percentile(y, 95)\n",
    "\n",
    "axes[0, 0].set_xlim([0, ymax])\n",
    "axes[0, 0].set_ylim([0, ymax])\n",
    "\n",
    "axes[0, 1].set_xlim([0, ymax])\n",
    "axes[0, 1].set_ylim([0, ymax])\n",
    "\n",
    "axes[1, 0].set_xlim([0, yperc95])\n",
    "axes[1, 0].set_ylim([0, yperc95])\n",
    "\n",
    "axes[1, 1].set_xlim([0, yperc95])\n",
    "axes[1, 1].set_ylim([0, yperc95])\n",
    "\n",
    "for axx in axes:\n",
    "    for ax in axx:\n",
    "        ax.set_xlabel('Actual Values')\n",
    "        ax.set_ylabel('Predicted Values')\n",
    "\n",
    "        # draw the diagonal line to compare with the perfect fit\n",
    "        ax.plot(ax.get_xlim(), ax.get_ylim(), ls=\"--\")\n",
    "        \n",
    "        ax.grid()"
   ]
  },
  {
   "cell_type": "markdown",
   "metadata": {},
   "source": [
    "There is clearly some bias in the model, as the high values cannot be captured. We will now do the evaluation of the best model on multiple splits of the dataset."
   ]
  },
  {
   "cell_type": "markdown",
   "metadata": {},
   "source": [
    "### Evaluation in different splits"
   ]
  },
  {
   "cell_type": "code",
   "execution_count": 14,
   "metadata": {},
   "outputs": [
    {
     "name": "stdout",
     "output_type": "stream",
     "text": [
      "### Split 1 ###\n",
      "### Split 2 ###\n",
      "### Split 3 ###\n",
      "### Split 4 ###\n",
      "### Split 5 ###\n",
      "### Split 6 ###\n",
      "### Split 7 ###\n",
      "### Split 8 ###\n",
      "### Split 9 ###\n",
      "### Split 10 ###\n",
      "### Split 11 ###\n",
      "### Split 12 ###\n",
      "### Split 13 ###\n",
      "### Split 14 ###\n",
      "### Split 15 ###\n",
      "### Split 16 ###\n",
      "### Split 17 ###\n",
      "### Split 18 ###\n",
      "### Split 19 ###\n",
      "### Split 20 ###\n",
      "### Split 21 ###\n",
      "### Split 22 ###\n",
      "### Split 23 ###\n",
      "### Split 24 ###\n",
      "### Split 25 ###\n",
      "### Split 26 ###\n",
      "### Split 27 ###\n",
      "### Split 28 ###\n",
      "### Split 29 ###\n",
      "### Split 30 ###\n",
      "Wall time: 21.7 s\n"
     ]
    }
   ],
   "source": [
    "%%time\n",
    "number_of_splits = 30\n",
    "train_rmses = []\n",
    "test_rmses = []\n",
    "i = 0\n",
    "for X_train, X_test, y_train_norm, y_test_norm, transformer_y in prepare_datasets(\n",
    "        df, number_of_splits=number_of_splits,\n",
    "        seed=seed,\n",
    "        do_convert_hour=do_convert_hour,\n",
    "        do_transform=do_transform\n",
    "):\n",
    "    i += 1\n",
    "    print(f'### Split {i} ###')\n",
    "    \n",
    "    model = XGBRegressor(**best_params)\n",
    "    model.fit(X_train, y_train_norm)\n",
    "\n",
    "    y_train_pred, y_test_pred, y_train, y_test = get_predictions(\n",
    "        selected_model, X_train, y_train_norm, X_test, y_test_norm,\n",
    "        transformer_y=transformer_y)\n",
    "    \n",
    "    train_rmse, test_rmse = calc_rmse(y_train_pred, y_test_pred, y_train, y_test)\n",
    "    \n",
    "    train_rmses.append(train_rmse)\n",
    "    test_rmses.append(test_rmse)\n",
    "    \n",
    "scores_df = pd.DataFrame({'train_rmse': train_rmses, 'test_rmse': test_rmses})"
   ]
  },
  {
   "cell_type": "code",
   "execution_count": 15,
   "metadata": {},
   "outputs": [
    {
     "data": {
      "text/html": [
       "<div>\n",
       "<style scoped>\n",
       "    .dataframe tbody tr th:only-of-type {\n",
       "        vertical-align: middle;\n",
       "    }\n",
       "\n",
       "    .dataframe tbody tr th {\n",
       "        vertical-align: top;\n",
       "    }\n",
       "\n",
       "    .dataframe thead th {\n",
       "        text-align: right;\n",
       "    }\n",
       "</style>\n",
       "<table border=\"1\" class=\"dataframe\">\n",
       "  <thead>\n",
       "    <tr style=\"text-align: right;\">\n",
       "      <th></th>\n",
       "      <th>train_rmse</th>\n",
       "      <th>test_rmse</th>\n",
       "    </tr>\n",
       "  </thead>\n",
       "  <tbody>\n",
       "    <tr>\n",
       "      <th>count</th>\n",
       "      <td>30.000000</td>\n",
       "      <td>30.000000</td>\n",
       "    </tr>\n",
       "    <tr>\n",
       "      <th>mean</th>\n",
       "      <td>712.838988</td>\n",
       "      <td>585.582938</td>\n",
       "    </tr>\n",
       "    <tr>\n",
       "      <th>std</th>\n",
       "      <td>103.025092</td>\n",
       "      <td>126.007399</td>\n",
       "    </tr>\n",
       "    <tr>\n",
       "      <th>min</th>\n",
       "      <td>526.791398</td>\n",
       "      <td>345.014358</td>\n",
       "    </tr>\n",
       "    <tr>\n",
       "      <th>25%</th>\n",
       "      <td>637.462046</td>\n",
       "      <td>499.313504</td>\n",
       "    </tr>\n",
       "    <tr>\n",
       "      <th>50%</th>\n",
       "      <td>670.682019</td>\n",
       "      <td>584.198224</td>\n",
       "    </tr>\n",
       "    <tr>\n",
       "      <th>75%</th>\n",
       "      <td>819.455818</td>\n",
       "      <td>676.398372</td>\n",
       "    </tr>\n",
       "    <tr>\n",
       "      <th>max</th>\n",
       "      <td>857.342953</td>\n",
       "      <td>822.024537</td>\n",
       "    </tr>\n",
       "  </tbody>\n",
       "</table>\n",
       "</div>"
      ],
      "text/plain": [
       "       train_rmse   test_rmse\n",
       "count   30.000000   30.000000\n",
       "mean   712.838988  585.582938\n",
       "std    103.025092  126.007399\n",
       "min    526.791398  345.014358\n",
       "25%    637.462046  499.313504\n",
       "50%    670.682019  584.198224\n",
       "75%    819.455818  676.398372\n",
       "max    857.342953  822.024537"
      ]
     },
     "execution_count": 15,
     "metadata": {},
     "output_type": "execute_result"
    }
   ],
   "source": [
    "scores_df.describe()"
   ]
  },
  {
   "cell_type": "markdown",
   "metadata": {},
   "source": [
    "The average RMSE for the test set is 585.6, much smaller than the train set (712.8). This is because the size of the train set is larger (375 points against 125 of the test set), and it's 3 times more likely that it will have the extreme value(s), leading to a higher squared error on average. We can also see the scores in a bar chart:"
   ]
  },
  {
   "cell_type": "code",
   "execution_count": 16,
   "metadata": {},
   "outputs": [
    {
     "data": {
      "image/png": "[encoded data removed]",
      "text/plain": [
       "<Figure size 432x288 with 1 Axes>"
      ]
     },
     "metadata": {
      "needs_background": "light"
     },
     "output_type": "display_data"
    }
   ],
   "source": [
    "conf_intervals = scores_df.std() * 1.96\n",
    "scores_df.mean().plot.bar(yerr=conf_intervals)\n",
    "plt.grid(axis='y')"
   ]
  },
  {
   "cell_type": "markdown",
   "metadata": {},
   "source": [
    "# Future Work\n",
    "\n",
    "### Improving the model\n",
    "\n",
    "The performance of the model could be improved by taking the search and optimization further, for the other regression algorithms as well.\n",
    "\n",
    "In terms of extra features, there aren't many that could be added based on this dataset. For example, there is not enough information to identify holidays. The transformation of the Post hour feature into a x, y vector space did not improve the performance. We could try cutting the date-related information into bins and observe if this would improve the model.\n",
    "\n",
    "Another option is to identify individual pages based on the number of page likes, with a small probability of collisions, as there might be different pages with similar page likes. This could be studied in detail, and provide an extra important feature for building this model.\n",
    "\n",
    "### Productionisation\n",
    "\n",
    "##### Training\n",
    "\n",
    "A potential workflow design is to evaluate and choose the algorithm (XGBoost etc.) periodically, e.g. monthly, and tune the selected algorithm in regular intervals, e.g. daily, weekly or monthly, based on new data.\n",
    "\n",
    "##### Evaluation\n",
    "\n",
    "Another important step is to evaluate the performance of the algorithm, e.g. against pre-configured thresholds, or historical performance values, and trigger changes (e.g. error messages, or retuning / retraining) if it is underperforming.\n",
    "\n",
    "##### Tests - Error Handling\n",
    "\n",
    "As the dataset is small and clean with no edge cases, we didn't add any error handling checks. We also didn't include any unit tests to capture errors. A production-ready solution would need to cover both, with proper handling of errors, leading to hard failure or fallback to default values, to avoid breaking the application that depends on it.\n",
    "\n",
    "##### Deployment\n",
    "\n",
    "The deployment of this model depends on its application, e.g. whether new data come in batches or in real time, and when the predictions need to be performed. As an example, it could be deployed in a Flask (or similar) web application, exposing an API endpoint for predictions.\n",
    "\n",
    "### More advanced Exploratory Data Analysis\n",
    "\n",
    "Exploratory Data Analysis is a really important part of a modeling procedure that may unlock value and further improve the modelling process."
   ]
  }
 ],
 "metadata": {
  "kernelspec": {
   "display_name": "itv",
   "language": "python",
   "name": "itv"
  },
  "language_info": {
   "codemirror_mode": {
    "name": "ipython",
    "version": 3
   },
   "file_extension": ".py",
   "mimetype": "text/x-python",
   "name": "python",
   "nbconvert_exporter": "python",
   "pygments_lexer": "ipython3",
   "version": "3.7.6"
  }
 },
 "nbformat": 4,
 "nbformat_minor": 4
}
