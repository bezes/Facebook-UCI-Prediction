{
 "cells": [
  {
   "cell_type": "markdown",
   "metadata": {},
   "source": [
    "## Imports"
   ]
  },
  {
   "cell_type": "code",
   "execution_count": 1,
   "metadata": {},
   "outputs": [],
   "source": [
    "import numpy as np\n",
    "import pandas as pd\n",
    "import matplotlib.pyplot as plt\n",
    "import seaborn as sns\n",
    "import warnings\n",
    "\n",
    "sns.set()\n",
    "warnings.filterwarnings('ignore')"
   ]
  },
  {
   "cell_type": "code",
   "execution_count": 2,
   "metadata": {},
   "outputs": [],
   "source": [
    "df = pd.read_csv('dataset_Facebook.csv', sep=';')"
   ]
  },
  {
   "cell_type": "code",
   "execution_count": 3,
   "metadata": {},
   "outputs": [
    {
     "data": {
      "text/plain": [
       "(500, 19)"
      ]
     },
     "execution_count": 3,
     "metadata": {},
     "output_type": "execute_result"
    }
   ],
   "source": [
    "df.shape"
   ]
  },
  {
   "cell_type": "code",
   "execution_count": 4,
   "metadata": {},
   "outputs": [
    {
     "data": {
      "text/html": [
       "<div>\n",
       "<style scoped>\n",
       "    .dataframe tbody tr th:only-of-type {\n",
       "        vertical-align: middle;\n",
       "    }\n",
       "\n",
       "    .dataframe tbody tr th {\n",
       "        vertical-align: top;\n",
       "    }\n",
       "\n",
       "    .dataframe thead th {\n",
       "        text-align: right;\n",
       "    }\n",
       "</style>\n",
       "<table border=\"1\" class=\"dataframe\">\n",
       "  <thead>\n",
       "    <tr style=\"text-align: right;\">\n",
       "      <th></th>\n",
       "      <th>0</th>\n",
       "      <th>1</th>\n",
       "    </tr>\n",
       "  </thead>\n",
       "  <tbody>\n",
       "    <tr>\n",
       "      <th>Page total likes</th>\n",
       "      <td>139441</td>\n",
       "      <td>139441</td>\n",
       "    </tr>\n",
       "    <tr>\n",
       "      <th>Type</th>\n",
       "      <td>Photo</td>\n",
       "      <td>Status</td>\n",
       "    </tr>\n",
       "    <tr>\n",
       "      <th>Category</th>\n",
       "      <td>2</td>\n",
       "      <td>2</td>\n",
       "    </tr>\n",
       "    <tr>\n",
       "      <th>Post Month</th>\n",
       "      <td>12</td>\n",
       "      <td>12</td>\n",
       "    </tr>\n",
       "    <tr>\n",
       "      <th>Post Weekday</th>\n",
       "      <td>4</td>\n",
       "      <td>3</td>\n",
       "    </tr>\n",
       "    <tr>\n",
       "      <th>Post Hour</th>\n",
       "      <td>3</td>\n",
       "      <td>10</td>\n",
       "    </tr>\n",
       "    <tr>\n",
       "      <th>Paid</th>\n",
       "      <td>0</td>\n",
       "      <td>0</td>\n",
       "    </tr>\n",
       "    <tr>\n",
       "      <th>Lifetime Post Total Reach</th>\n",
       "      <td>2752</td>\n",
       "      <td>10460</td>\n",
       "    </tr>\n",
       "    <tr>\n",
       "      <th>Lifetime Post Total Impressions</th>\n",
       "      <td>5091</td>\n",
       "      <td>19057</td>\n",
       "    </tr>\n",
       "    <tr>\n",
       "      <th>Lifetime Engaged Users</th>\n",
       "      <td>178</td>\n",
       "      <td>1457</td>\n",
       "    </tr>\n",
       "    <tr>\n",
       "      <th>Lifetime Post Consumers</th>\n",
       "      <td>109</td>\n",
       "      <td>1361</td>\n",
       "    </tr>\n",
       "    <tr>\n",
       "      <th>Lifetime Post Consumptions</th>\n",
       "      <td>159</td>\n",
       "      <td>1674</td>\n",
       "    </tr>\n",
       "    <tr>\n",
       "      <th>Lifetime Post Impressions by people who have liked your Page</th>\n",
       "      <td>3078</td>\n",
       "      <td>11710</td>\n",
       "    </tr>\n",
       "    <tr>\n",
       "      <th>Lifetime Post reach by people who like your Page</th>\n",
       "      <td>1640</td>\n",
       "      <td>6112</td>\n",
       "    </tr>\n",
       "    <tr>\n",
       "      <th>Lifetime People who have liked your Page and engaged with your post</th>\n",
       "      <td>119</td>\n",
       "      <td>1108</td>\n",
       "    </tr>\n",
       "    <tr>\n",
       "      <th>comment</th>\n",
       "      <td>4</td>\n",
       "      <td>5</td>\n",
       "    </tr>\n",
       "    <tr>\n",
       "      <th>like</th>\n",
       "      <td>79</td>\n",
       "      <td>130</td>\n",
       "    </tr>\n",
       "    <tr>\n",
       "      <th>share</th>\n",
       "      <td>17</td>\n",
       "      <td>29</td>\n",
       "    </tr>\n",
       "    <tr>\n",
       "      <th>Total Interactions</th>\n",
       "      <td>100</td>\n",
       "      <td>164</td>\n",
       "    </tr>\n",
       "  </tbody>\n",
       "</table>\n",
       "</div>"
      ],
      "text/plain": [
       "                                                         0       1\n",
       "Page total likes                                    139441  139441\n",
       "Type                                                 Photo  Status\n",
       "Category                                                 2       2\n",
       "Post Month                                              12      12\n",
       "Post Weekday                                             4       3\n",
       "Post Hour                                                3      10\n",
       "Paid                                                     0       0\n",
       "Lifetime Post Total Reach                             2752   10460\n",
       "Lifetime Post Total Impressions                       5091   19057\n",
       "Lifetime Engaged Users                                 178    1457\n",
       "Lifetime Post Consumers                                109    1361\n",
       "Lifetime Post Consumptions                             159    1674\n",
       "Lifetime Post Impressions by people who have li...    3078   11710\n",
       "Lifetime Post reach by people who like your Page      1640    6112\n",
       "Lifetime People who have liked your Page and en...     119    1108\n",
       "comment                                                  4       5\n",
       "like                                                    79     130\n",
       "share                                                   17      29\n",
       "Total Interactions                                     100     164"
      ]
     },
     "execution_count": 4,
     "metadata": {},
     "output_type": "execute_result"
    }
   ],
   "source": [
    "df.head(2).T"
   ]
  },
  {
   "cell_type": "code",
   "execution_count": 5,
   "metadata": {},
   "outputs": [
    {
     "data": {
      "text/plain": [
       "Page total likes                                                         int64\n",
       "Type                                                                    object\n",
       "Category                                                                 int64\n",
       "Post Month                                                               int64\n",
       "Post Weekday                                                             int64\n",
       "Post Hour                                                                int64\n",
       "Paid                                                                   float64\n",
       "Lifetime Post Total Reach                                                int64\n",
       "Lifetime Post Total Impressions                                          int64\n",
       "Lifetime Engaged Users                                                   int64\n",
       "Lifetime Post Consumers                                                  int64\n",
       "Lifetime Post Consumptions                                               int64\n",
       "Lifetime Post Impressions by people who have liked your Page             int64\n",
       "Lifetime Post reach by people who like your Page                         int64\n",
       "Lifetime People who have liked your Page and engaged with your post      int64\n",
       "comment                                                                  int64\n",
       "like                                                                   float64\n",
       "share                                                                  float64\n",
       "Total Interactions                                                       int64\n",
       "dtype: object"
      ]
     },
     "execution_count": 5,
     "metadata": {},
     "output_type": "execute_result"
    }
   ],
   "source": [
    "df.dtypes"
   ]
  },
  {
   "cell_type": "code",
   "execution_count": 6,
   "metadata": {},
   "outputs": [
    {
     "data": {
      "text/html": [
       "<div>\n",
       "<style scoped>\n",
       "    .dataframe tbody tr th:only-of-type {\n",
       "        vertical-align: middle;\n",
       "    }\n",
       "\n",
       "    .dataframe tbody tr th {\n",
       "        vertical-align: top;\n",
       "    }\n",
       "\n",
       "    .dataframe thead th {\n",
       "        text-align: right;\n",
       "    }\n",
       "</style>\n",
       "<table border=\"1\" class=\"dataframe\">\n",
       "  <thead>\n",
       "    <tr style=\"text-align: right;\">\n",
       "      <th></th>\n",
       "      <th>count</th>\n",
       "      <th>mean</th>\n",
       "      <th>std</th>\n",
       "      <th>min</th>\n",
       "      <th>25%</th>\n",
       "      <th>50%</th>\n",
       "      <th>75%</th>\n",
       "      <th>max</th>\n",
       "    </tr>\n",
       "  </thead>\n",
       "  <tbody>\n",
       "    <tr>\n",
       "      <th>Page total likes</th>\n",
       "      <td>500.0</td>\n",
       "      <td>123194.176000</td>\n",
       "      <td>16272.813214</td>\n",
       "      <td>81370.0</td>\n",
       "      <td>112676.00</td>\n",
       "      <td>129600.0</td>\n",
       "      <td>136393.00</td>\n",
       "      <td>139441.0</td>\n",
       "    </tr>\n",
       "    <tr>\n",
       "      <th>Category</th>\n",
       "      <td>500.0</td>\n",
       "      <td>1.880000</td>\n",
       "      <td>0.852675</td>\n",
       "      <td>1.0</td>\n",
       "      <td>1.00</td>\n",
       "      <td>2.0</td>\n",
       "      <td>3.00</td>\n",
       "      <td>3.0</td>\n",
       "    </tr>\n",
       "    <tr>\n",
       "      <th>Post Month</th>\n",
       "      <td>500.0</td>\n",
       "      <td>7.038000</td>\n",
       "      <td>3.307936</td>\n",
       "      <td>1.0</td>\n",
       "      <td>4.00</td>\n",
       "      <td>7.0</td>\n",
       "      <td>10.00</td>\n",
       "      <td>12.0</td>\n",
       "    </tr>\n",
       "    <tr>\n",
       "      <th>Post Weekday</th>\n",
       "      <td>500.0</td>\n",
       "      <td>4.150000</td>\n",
       "      <td>2.030701</td>\n",
       "      <td>1.0</td>\n",
       "      <td>2.00</td>\n",
       "      <td>4.0</td>\n",
       "      <td>6.00</td>\n",
       "      <td>7.0</td>\n",
       "    </tr>\n",
       "    <tr>\n",
       "      <th>Post Hour</th>\n",
       "      <td>500.0</td>\n",
       "      <td>7.840000</td>\n",
       "      <td>4.368589</td>\n",
       "      <td>1.0</td>\n",
       "      <td>3.00</td>\n",
       "      <td>9.0</td>\n",
       "      <td>11.00</td>\n",
       "      <td>23.0</td>\n",
       "    </tr>\n",
       "    <tr>\n",
       "      <th>Paid</th>\n",
       "      <td>499.0</td>\n",
       "      <td>0.278557</td>\n",
       "      <td>0.448739</td>\n",
       "      <td>0.0</td>\n",
       "      <td>0.00</td>\n",
       "      <td>0.0</td>\n",
       "      <td>1.00</td>\n",
       "      <td>1.0</td>\n",
       "    </tr>\n",
       "    <tr>\n",
       "      <th>Lifetime Post Total Reach</th>\n",
       "      <td>500.0</td>\n",
       "      <td>13903.360000</td>\n",
       "      <td>22740.787890</td>\n",
       "      <td>238.0</td>\n",
       "      <td>3315.00</td>\n",
       "      <td>5281.0</td>\n",
       "      <td>13168.00</td>\n",
       "      <td>180480.0</td>\n",
       "    </tr>\n",
       "    <tr>\n",
       "      <th>Lifetime Post Total Impressions</th>\n",
       "      <td>500.0</td>\n",
       "      <td>29585.948000</td>\n",
       "      <td>76803.246670</td>\n",
       "      <td>570.0</td>\n",
       "      <td>5694.75</td>\n",
       "      <td>9051.0</td>\n",
       "      <td>22085.50</td>\n",
       "      <td>1110282.0</td>\n",
       "    </tr>\n",
       "    <tr>\n",
       "      <th>Lifetime Engaged Users</th>\n",
       "      <td>500.0</td>\n",
       "      <td>920.344000</td>\n",
       "      <td>985.016636</td>\n",
       "      <td>9.0</td>\n",
       "      <td>393.75</td>\n",
       "      <td>625.5</td>\n",
       "      <td>1062.00</td>\n",
       "      <td>11452.0</td>\n",
       "    </tr>\n",
       "    <tr>\n",
       "      <th>Lifetime Post Consumers</th>\n",
       "      <td>500.0</td>\n",
       "      <td>798.772000</td>\n",
       "      <td>882.505013</td>\n",
       "      <td>9.0</td>\n",
       "      <td>332.50</td>\n",
       "      <td>551.5</td>\n",
       "      <td>955.50</td>\n",
       "      <td>11328.0</td>\n",
       "    </tr>\n",
       "    <tr>\n",
       "      <th>Lifetime Post Consumptions</th>\n",
       "      <td>500.0</td>\n",
       "      <td>1415.130000</td>\n",
       "      <td>2000.594118</td>\n",
       "      <td>9.0</td>\n",
       "      <td>509.25</td>\n",
       "      <td>851.0</td>\n",
       "      <td>1463.00</td>\n",
       "      <td>19779.0</td>\n",
       "    </tr>\n",
       "    <tr>\n",
       "      <th>Lifetime Post Impressions by people who have liked your Page</th>\n",
       "      <td>500.0</td>\n",
       "      <td>16766.376000</td>\n",
       "      <td>59791.023731</td>\n",
       "      <td>567.0</td>\n",
       "      <td>3969.75</td>\n",
       "      <td>6255.5</td>\n",
       "      <td>14860.50</td>\n",
       "      <td>1107833.0</td>\n",
       "    </tr>\n",
       "    <tr>\n",
       "      <th>Lifetime Post reach by people who like your Page</th>\n",
       "      <td>500.0</td>\n",
       "      <td>6585.488000</td>\n",
       "      <td>7682.009405</td>\n",
       "      <td>236.0</td>\n",
       "      <td>2181.50</td>\n",
       "      <td>3417.0</td>\n",
       "      <td>7989.00</td>\n",
       "      <td>51456.0</td>\n",
       "    </tr>\n",
       "    <tr>\n",
       "      <th>Lifetime People who have liked your Page and engaged with your post</th>\n",
       "      <td>500.0</td>\n",
       "      <td>609.986000</td>\n",
       "      <td>612.725618</td>\n",
       "      <td>9.0</td>\n",
       "      <td>291.00</td>\n",
       "      <td>412.0</td>\n",
       "      <td>656.25</td>\n",
       "      <td>4376.0</td>\n",
       "    </tr>\n",
       "    <tr>\n",
       "      <th>comment</th>\n",
       "      <td>500.0</td>\n",
       "      <td>7.482000</td>\n",
       "      <td>21.180910</td>\n",
       "      <td>0.0</td>\n",
       "      <td>1.00</td>\n",
       "      <td>3.0</td>\n",
       "      <td>7.00</td>\n",
       "      <td>372.0</td>\n",
       "    </tr>\n",
       "    <tr>\n",
       "      <th>like</th>\n",
       "      <td>499.0</td>\n",
       "      <td>177.945892</td>\n",
       "      <td>323.398742</td>\n",
       "      <td>0.0</td>\n",
       "      <td>56.50</td>\n",
       "      <td>101.0</td>\n",
       "      <td>187.50</td>\n",
       "      <td>5172.0</td>\n",
       "    </tr>\n",
       "    <tr>\n",
       "      <th>share</th>\n",
       "      <td>496.0</td>\n",
       "      <td>27.266129</td>\n",
       "      <td>42.613292</td>\n",
       "      <td>0.0</td>\n",
       "      <td>10.00</td>\n",
       "      <td>19.0</td>\n",
       "      <td>32.25</td>\n",
       "      <td>790.0</td>\n",
       "    </tr>\n",
       "    <tr>\n",
       "      <th>Total Interactions</th>\n",
       "      <td>500.0</td>\n",
       "      <td>212.120000</td>\n",
       "      <td>380.233118</td>\n",
       "      <td>0.0</td>\n",
       "      <td>71.00</td>\n",
       "      <td>123.5</td>\n",
       "      <td>228.50</td>\n",
       "      <td>6334.0</td>\n",
       "    </tr>\n",
       "  </tbody>\n",
       "</table>\n",
       "</div>"
      ],
      "text/plain": [
       "                                                    count           mean  \\\n",
       "Page total likes                                    500.0  123194.176000   \n",
       "Category                                            500.0       1.880000   \n",
       "Post Month                                          500.0       7.038000   \n",
       "Post Weekday                                        500.0       4.150000   \n",
       "Post Hour                                           500.0       7.840000   \n",
       "Paid                                                499.0       0.278557   \n",
       "Lifetime Post Total Reach                           500.0   13903.360000   \n",
       "Lifetime Post Total Impressions                     500.0   29585.948000   \n",
       "Lifetime Engaged Users                              500.0     920.344000   \n",
       "Lifetime Post Consumers                             500.0     798.772000   \n",
       "Lifetime Post Consumptions                          500.0    1415.130000   \n",
       "Lifetime Post Impressions by people who have li...  500.0   16766.376000   \n",
       "Lifetime Post reach by people who like your Page    500.0    6585.488000   \n",
       "Lifetime People who have liked your Page and en...  500.0     609.986000   \n",
       "comment                                             500.0       7.482000   \n",
       "like                                                499.0     177.945892   \n",
       "share                                               496.0      27.266129   \n",
       "Total Interactions                                  500.0     212.120000   \n",
       "\n",
       "                                                             std      min  \\\n",
       "Page total likes                                    16272.813214  81370.0   \n",
       "Category                                                0.852675      1.0   \n",
       "Post Month                                              3.307936      1.0   \n",
       "Post Weekday                                            2.030701      1.0   \n",
       "Post Hour                                               4.368589      1.0   \n",
       "Paid                                                    0.448739      0.0   \n",
       "Lifetime Post Total Reach                           22740.787890    238.0   \n",
       "Lifetime Post Total Impressions                     76803.246670    570.0   \n",
       "Lifetime Engaged Users                                985.016636      9.0   \n",
       "Lifetime Post Consumers                               882.505013      9.0   \n",
       "Lifetime Post Consumptions                           2000.594118      9.0   \n",
       "Lifetime Post Impressions by people who have li...  59791.023731    567.0   \n",
       "Lifetime Post reach by people who like your Page     7682.009405    236.0   \n",
       "Lifetime People who have liked your Page and en...    612.725618      9.0   \n",
       "comment                                                21.180910      0.0   \n",
       "like                                                  323.398742      0.0   \n",
       "share                                                  42.613292      0.0   \n",
       "Total Interactions                                    380.233118      0.0   \n",
       "\n",
       "                                                          25%       50%  \\\n",
       "Page total likes                                    112676.00  129600.0   \n",
       "Category                                                 1.00       2.0   \n",
       "Post Month                                               4.00       7.0   \n",
       "Post Weekday                                             2.00       4.0   \n",
       "Post Hour                                                3.00       9.0   \n",
       "Paid                                                     0.00       0.0   \n",
       "Lifetime Post Total Reach                             3315.00    5281.0   \n",
       "Lifetime Post Total Impressions                       5694.75    9051.0   \n",
       "Lifetime Engaged Users                                 393.75     625.5   \n",
       "Lifetime Post Consumers                                332.50     551.5   \n",
       "Lifetime Post Consumptions                             509.25     851.0   \n",
       "Lifetime Post Impressions by people who have li...    3969.75    6255.5   \n",
       "Lifetime Post reach by people who like your Page      2181.50    3417.0   \n",
       "Lifetime People who have liked your Page and en...     291.00     412.0   \n",
       "comment                                                  1.00       3.0   \n",
       "like                                                    56.50     101.0   \n",
       "share                                                   10.00      19.0   \n",
       "Total Interactions                                      71.00     123.5   \n",
       "\n",
       "                                                          75%        max  \n",
       "Page total likes                                    136393.00   139441.0  \n",
       "Category                                                 3.00        3.0  \n",
       "Post Month                                              10.00       12.0  \n",
       "Post Weekday                                             6.00        7.0  \n",
       "Post Hour                                               11.00       23.0  \n",
       "Paid                                                     1.00        1.0  \n",
       "Lifetime Post Total Reach                            13168.00   180480.0  \n",
       "Lifetime Post Total Impressions                      22085.50  1110282.0  \n",
       "Lifetime Engaged Users                                1062.00    11452.0  \n",
       "Lifetime Post Consumers                                955.50    11328.0  \n",
       "Lifetime Post Consumptions                            1463.00    19779.0  \n",
       "Lifetime Post Impressions by people who have li...   14860.50  1107833.0  \n",
       "Lifetime Post reach by people who like your Page      7989.00    51456.0  \n",
       "Lifetime People who have liked your Page and en...     656.25     4376.0  \n",
       "comment                                                  7.00      372.0  \n",
       "like                                                   187.50     5172.0  \n",
       "share                                                   32.25      790.0  \n",
       "Total Interactions                                     228.50     6334.0  "
      ]
     },
     "execution_count": 6,
     "metadata": {},
     "output_type": "execute_result"
    }
   ],
   "source": [
    "df.describe().T"
   ]
  },
  {
   "cell_type": "markdown",
   "metadata": {},
   "source": [
    "# Part 1 - Data Set Questions"
   ]
  },
  {
   "cell_type": "markdown",
   "metadata": {},
   "source": [
    "##### 1. What is the most common (i.e the one that appears the most in this data) type of post?"
   ]
  },
  {
   "cell_type": "code",
   "execution_count": 7,
   "metadata": {},
   "outputs": [
    {
     "name": "stdout",
     "output_type": "stream",
     "text": [
      "The most common type of post is \"Photo\"\n"
     ]
    }
   ],
   "source": [
    "print(f'The most common type of post is \"{df.Type.mode().iloc[0]}\"')"
   ]
  },
  {
   "cell_type": "markdown",
   "metadata": {},
   "source": [
    "##### 2. On average, which type of post received most ‘Page total likes’? Does this agree with the post ‘like’ metric?"
   ]
  },
  {
   "cell_type": "code",
   "execution_count": 8,
   "metadata": {},
   "outputs": [
    {
     "name": "stdout",
     "output_type": "stream",
     "text": [
      "On average, \"Video\" received most \"Page total likes\"\n",
      "\n"
     ]
    },
    {
     "data": {
      "image/png": "[encoded data removed]",
      "text/plain": [
       "<Figure size 432x288 with 1 Axes>"
      ]
     },
     "metadata": {},
     "output_type": "display_data"
    }
   ],
   "source": [
    "print('On average, \"{}\" received most \"Page total likes\"\\n'.format(\n",
    "    df.groupby('Type')['Page total likes'].mean().idxmax()))\n",
    "\n",
    "df.groupby('Type')['Page total likes'].mean().plot.barh();\n",
    "plt.title('Average \"Page Total Likes\" per post type');"
   ]
  },
  {
   "cell_type": "code",
   "execution_count": 9,
   "metadata": {},
   "outputs": [
    {
     "name": "stdout",
     "output_type": "stream",
     "text": [
      "On average, \"Video\" received most \"likes\"\n",
      "\n"
     ]
    },
    {
     "data": {
      "image/png": "[encoded data removed]",
      "text/plain": [
       "<Figure size 432x288 with 1 Axes>"
      ]
     },
     "metadata": {},
     "output_type": "display_data"
    }
   ],
   "source": [
    "print('On average, \"{}\" received most \"likes\"\\n'.format(\n",
    "    df.groupby('Type')['like'].mean().idxmax()))\n",
    "\n",
    "df.groupby('Type')['like'].mean().plot.barh();\n",
    "plt.title('Average \"like\" per post type');"
   ]
  },
  {
   "cell_type": "markdown",
   "metadata": {},
   "source": [
    "From the three types of posts, `Video` received most average `Page total likes`, as well as most average `likes`."
   ]
  },
  {
   "cell_type": "markdown",
   "metadata": {},
   "source": [
    "##### 3. On average, do paid video posts (Paid=1) receive more shares than the unpaid ones? Given that this data is for a Facebook page of a cosmetics brand, can you think of any reasons for the results you obtain? (i.e. if no, then why not?)"
   ]
  },
  {
   "cell_type": "code",
   "execution_count": 10,
   "metadata": {},
   "outputs": [
    {
     "name": "stdout",
     "output_type": "stream",
     "text": [
      "Paid\n",
      "0.0    25.219101\n",
      "1.0    32.503597\n",
      "\n",
      "On average, paid video posts receive more shares than the unpaid ones.\n"
     ]
    }
   ],
   "source": [
    "print(df.groupby('Paid').share.mean().to_string())\n",
    "\n",
    "print('\\nOn average, paid video posts {}receive more shares than the unpaid ones.'.format(\n",
    "    '' if df.groupby('Paid').share.mean().idxmax() == 1.0 else 'do not '\n",
    "))"
   ]
  },
  {
   "cell_type": "markdown",
   "metadata": {},
   "source": [
    "The reason for paid video posts receiving more shares is that they get promoted in the feeds of their subscribers, as well as shown to people outside their subscriber base."
   ]
  },
  {
   "cell_type": "markdown",
   "metadata": {},
   "source": [
    "##### 4. ‘Lifetime post consumers’ is the number of people who clicked anywhere in a post. ‘Lifetime post consumption’ is the number of clicks anywhere in a post. For each post, approximate the ‘consumption per user’ and determine the post type and month that, on average, receive the most ‘consumptions per user’. Is this result different from the total ‘Lifetime post consumers’ by post type and month?"
   ]
  },
  {
   "cell_type": "code",
   "execution_count": 11,
   "metadata": {},
   "outputs": [
    {
     "data": {
      "text/plain": [
       "0"
      ]
     },
     "execution_count": 11,
     "metadata": {},
     "output_type": "execute_result"
    }
   ],
   "source": [
    "# see if there are any zero Lifetime Post Consumers,\n",
    "# so that we don't divide by zero at the next cell\n",
    "df[df['Lifetime Post Consumers'] == 0].size"
   ]
  },
  {
   "cell_type": "code",
   "execution_count": 12,
   "metadata": {},
   "outputs": [],
   "source": [
    "df['Consumptions per User'] = df['Lifetime Post Consumptions'].divide(\n",
    "    df['Lifetime Post Consumers'], axis=0)"
   ]
  },
  {
   "cell_type": "code",
   "execution_count": 13,
   "metadata": {},
   "outputs": [
    {
     "data": {
      "text/plain": [
       "('Photo', 3)"
      ]
     },
     "execution_count": 13,
     "metadata": {},
     "output_type": "execute_result"
    }
   ],
   "source": [
    "df.groupby(['Type', 'Post Month'])['Consumptions per User'].mean().idxmax()"
   ]
  },
  {
   "cell_type": "markdown",
   "metadata": {},
   "source": [
    "`Photo` and `March` on average receive the most `consumptions per user`."
   ]
  },
  {
   "cell_type": "code",
   "execution_count": 14,
   "metadata": {},
   "outputs": [
    {
     "data": {
      "text/plain": [
       "('Video', 7)"
      ]
     },
     "execution_count": 14,
     "metadata": {},
     "output_type": "execute_result"
    }
   ],
   "source": [
    "df.groupby(['Type', 'Post Month'])['Lifetime Post Consumers'].mean().idxmax()"
   ]
  },
  {
   "cell_type": "markdown",
   "metadata": {},
   "source": [
    "The result is different for `Lifetime post consumers`: `Video` and `July`"
   ]
  },
  {
   "cell_type": "markdown",
   "metadata": {},
   "source": [
    "##### 5. For the ‘Photo’ type posts, find the month that shows the greatest absolute skew in the distribution of the ‘consumptions per user’. Use whichever definition of ‘skew’ you think is appropriate for this data (e.g. it can be any numeric or visual estimate)."
   ]
  },
  {
   "cell_type": "code",
   "execution_count": 15,
   "metadata": {},
   "outputs": [
    {
     "data": {
      "text/plain": [
       "7"
      ]
     },
     "execution_count": 15,
     "metadata": {},
     "output_type": "execute_result"
    }
   ],
   "source": [
    "df.loc[df.Type == 'Photo'].groupby('Post Month')[\n",
    "    'Consumptions per User'].skew().idxmax()"
   ]
  },
  {
   "cell_type": "markdown",
   "metadata": {},
   "source": [
    "`July` is the month that shows the greatest absolute skew in the distribution of the `consumptions per user`. Let's see in a violin plot the distributions."
   ]
  },
  {
   "cell_type": "code",
   "execution_count": 16,
   "metadata": {},
   "outputs": [
    {
     "data": {
      "image/png": "[encoded data removed]",
      "text/plain": [
       "<Figure size 1728x1080 with 12 Axes>"
      ]
     },
     "metadata": {},
     "output_type": "display_data"
    }
   ],
   "source": [
    "months = df.loc[df.Type == 'Photo', 'Post Month'].sort_values().unique()\n",
    "g = sns.FacetGrid(df[df.Type == 'Photo'].sort_values('Post Month'),\n",
    "                  col='Post Month', col_wrap=4, row_order=months,\n",
    "                  height=5, aspect=1.2\n",
    "                 )\n",
    "g.map(sns.violinplot, 'Consumptions per User');"
   ]
  }
 ],
 "metadata": {
  "kernelspec": {
   "display_name": "itv",
   "language": "python",
   "name": "itv"
  },
  "language_info": {
   "codemirror_mode": {
    "name": "ipython",
    "version": 3
   },
   "file_extension": ".py",
   "mimetype": "text/x-python",
   "name": "python",
   "nbconvert_exporter": "python",
   "pygments_lexer": "ipython3",
   "version": "3.7.6"
  }
 },
 "nbformat": 4,
 "nbformat_minor": 4
}
